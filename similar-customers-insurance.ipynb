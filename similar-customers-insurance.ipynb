{
 "cells": [
  {
   "cell_type": "markdown",
   "metadata": {
    "pycharm": {
     "name": "#%% md\n"
    }
   },
   "source": [
    "# Sure Tomorrow - Linear Algebra"
   ]
  },
  {
   "cell_type": "markdown",
   "metadata": {
    "pycharm": {
     "name": "#%% md\n"
    }
   },
   "source": [
    "The Sure Tomorrow insurance company wants to solve several tasks with the help of machine learning, and you are asked to evaluate that possibility.\n",
    "\n",
    "    Task 1: Find customers who are similar to the given customer. This will help the company's agents with marketing.\n",
    "    Task 2: Predict whether a new customer is likely to receive an insurance benefit. Can a trained model do better than a random model?\n",
    "    Task 3: Predict the number of insurance benefits a new customer is likely to receive using a Linear Regression model.\n",
    "    Task 4: Develop a way to protect clients' personal data without affecting the model from the previous task.\n",
    "    It's necessary to develop a data transformation algorithm that would make it hard to recover personal information if the data fell into the wrong hands. This is called data masking, or data obfuscation. But the data should be protected in such a way that the quality of machine learning models doesn't suffer. You don't need to pick the best model, just prove that the algorithm works correctly."
   ]
  },
  {
   "cell_type": "markdown",
   "metadata": {
    "pycharm": {
     "name": "#%% md\n"
    }
   },
   "source": [
    "# Data Preprocessing & Exploration\n",
    "\n",
    "## Initialization"
   ]
  },
  {
   "cell_type": "code",
   "execution_count": 33,
   "metadata": {
    "pycharm": {
     "name": "#%%\n"
    }
   },
   "outputs": [],
   "source": [
    "#pip install scikit-learn --upgrade"
   ]
  },
  {
   "cell_type": "code",
   "execution_count": 34,
   "metadata": {
    "pycharm": {
     "name": "#%%\n"
    }
   },
   "outputs": [],
   "source": [
    "import pandas as pd\n",
    "import numpy as np\n",
    "import seaborn as sns\n",
    "import sklearn\n",
    "from matplotlib import pyplot as plt\n",
    "from numpy.lib import math\n",
    "from sklearn.preprocessing import MaxAbsScaler\n",
    "from sklearn.model_selection import train_test_split\n",
    "from sklearn.neighbors import NearestNeighbors, KNeighborsClassifier\n",
    "from sklearn.linear_model import LinearRegression\n",
    "from sklearn.metrics import mean_squared_error, f1_score\n",
    "from numpy.random import RandomState\n",
    "import warnings\n",
    "\n",
    "warnings.filterwarnings('ignore')"
   ]
  },
  {
   "cell_type": "markdown",
   "metadata": {
    "pycharm": {
     "name": "#%% md\n"
    }
   },
   "source": [
    "### Import Data<a class=\"anchor\" id='1.2'></a>"
   ]
  },
  {
   "cell_type": "markdown",
   "metadata": {
    "pycharm": {
     "name": "#%% md\n"
    }
   },
   "source": [
    "Load data and conduct a basic check that it's free from obvious issues."
   ]
  },
  {
   "cell_type": "code",
   "execution_count": 35,
   "metadata": {
    "pycharm": {
     "name": "#%%\n"
    }
   },
   "outputs": [],
   "source": [
    "try:\n",
    "    insurance_data = pd.read_csv('datasets/insurance_us.csv')\n",
    "except:\n",
    "    insurance_data = pd.read_csv('/datasets/insurance_us.csv')"
   ]
  },
  {
   "cell_type": "markdown",
   "metadata": {
    "pycharm": {
     "name": "#%% md\n"
    }
   },
   "source": [
    "### Analyzing the Data <a class=\"anchor\" id='1.3'></a>"
   ]
  },
  {
   "cell_type": "code",
   "execution_count": 36,
   "metadata": {
    "pycharm": {
     "name": "#%%\n"
    }
   },
   "outputs": [],
   "source": [
    "insurance_data = insurance_data.rename(columns={'Gender': 'gender', 'Age': 'age', 'Salary': 'income', 'Family members': 'family_members', 'Insurance benefits': 'insurance_benefits'})"
   ]
  },
  {
   "cell_type": "code",
   "execution_count": 37,
   "metadata": {
    "pycharm": {
     "name": "#%%\n"
    }
   },
   "outputs": [
    {
     "data": {
      "text/html": [
       "<div>\n",
       "<style scoped>\n",
       "    .dataframe tbody tr th:only-of-type {\n",
       "        vertical-align: middle;\n",
       "    }\n",
       "\n",
       "    .dataframe tbody tr th {\n",
       "        vertical-align: top;\n",
       "    }\n",
       "\n",
       "    .dataframe thead th {\n",
       "        text-align: right;\n",
       "    }\n",
       "</style>\n",
       "<table border=\"1\" class=\"dataframe\">\n",
       "  <thead>\n",
       "    <tr style=\"text-align: right;\">\n",
       "      <th></th>\n",
       "      <th>0</th>\n",
       "      <th>1</th>\n",
       "      <th>2</th>\n",
       "      <th>3</th>\n",
       "      <th>4</th>\n",
       "      <th>5</th>\n",
       "      <th>6</th>\n",
       "      <th>7</th>\n",
       "      <th>8</th>\n",
       "      <th>9</th>\n",
       "      <th>...</th>\n",
       "      <th>4990</th>\n",
       "      <th>4991</th>\n",
       "      <th>4992</th>\n",
       "      <th>4993</th>\n",
       "      <th>4994</th>\n",
       "      <th>4995</th>\n",
       "      <th>4996</th>\n",
       "      <th>4997</th>\n",
       "      <th>4998</th>\n",
       "      <th>4999</th>\n",
       "    </tr>\n",
       "  </thead>\n",
       "  <tbody>\n",
       "    <tr>\n",
       "      <th>gender</th>\n",
       "      <td>1.0</td>\n",
       "      <td>0.0</td>\n",
       "      <td>0.0</td>\n",
       "      <td>0.0</td>\n",
       "      <td>1.0</td>\n",
       "      <td>1.0</td>\n",
       "      <td>1.0</td>\n",
       "      <td>1.0</td>\n",
       "      <td>1.0</td>\n",
       "      <td>1.0</td>\n",
       "      <td>...</td>\n",
       "      <td>0.0</td>\n",
       "      <td>0.0</td>\n",
       "      <td>0.0</td>\n",
       "      <td>1.0</td>\n",
       "      <td>1.0</td>\n",
       "      <td>0.0</td>\n",
       "      <td>0.0</td>\n",
       "      <td>0.0</td>\n",
       "      <td>1.0</td>\n",
       "      <td>1.0</td>\n",
       "    </tr>\n",
       "    <tr>\n",
       "      <th>age</th>\n",
       "      <td>41.0</td>\n",
       "      <td>46.0</td>\n",
       "      <td>29.0</td>\n",
       "      <td>21.0</td>\n",
       "      <td>28.0</td>\n",
       "      <td>43.0</td>\n",
       "      <td>39.0</td>\n",
       "      <td>25.0</td>\n",
       "      <td>36.0</td>\n",
       "      <td>32.0</td>\n",
       "      <td>...</td>\n",
       "      <td>22.0</td>\n",
       "      <td>21.0</td>\n",
       "      <td>45.0</td>\n",
       "      <td>32.0</td>\n",
       "      <td>26.0</td>\n",
       "      <td>28.0</td>\n",
       "      <td>34.0</td>\n",
       "      <td>20.0</td>\n",
       "      <td>22.0</td>\n",
       "      <td>28.0</td>\n",
       "    </tr>\n",
       "    <tr>\n",
       "      <th>income</th>\n",
       "      <td>49600.0</td>\n",
       "      <td>38000.0</td>\n",
       "      <td>21000.0</td>\n",
       "      <td>41700.0</td>\n",
       "      <td>26100.0</td>\n",
       "      <td>41000.0</td>\n",
       "      <td>39700.0</td>\n",
       "      <td>38600.0</td>\n",
       "      <td>49700.0</td>\n",
       "      <td>51700.0</td>\n",
       "      <td>...</td>\n",
       "      <td>56800.0</td>\n",
       "      <td>38300.0</td>\n",
       "      <td>54600.0</td>\n",
       "      <td>36000.0</td>\n",
       "      <td>51400.0</td>\n",
       "      <td>35700.0</td>\n",
       "      <td>52400.0</td>\n",
       "      <td>33900.0</td>\n",
       "      <td>32700.0</td>\n",
       "      <td>40600.0</td>\n",
       "    </tr>\n",
       "    <tr>\n",
       "      <th>family_members</th>\n",
       "      <td>1.0</td>\n",
       "      <td>1.0</td>\n",
       "      <td>0.0</td>\n",
       "      <td>2.0</td>\n",
       "      <td>0.0</td>\n",
       "      <td>2.0</td>\n",
       "      <td>2.0</td>\n",
       "      <td>4.0</td>\n",
       "      <td>1.0</td>\n",
       "      <td>1.0</td>\n",
       "      <td>...</td>\n",
       "      <td>1.0</td>\n",
       "      <td>3.0</td>\n",
       "      <td>0.0</td>\n",
       "      <td>1.0</td>\n",
       "      <td>0.0</td>\n",
       "      <td>2.0</td>\n",
       "      <td>1.0</td>\n",
       "      <td>2.0</td>\n",
       "      <td>3.0</td>\n",
       "      <td>1.0</td>\n",
       "    </tr>\n",
       "    <tr>\n",
       "      <th>insurance_benefits</th>\n",
       "      <td>0.0</td>\n",
       "      <td>1.0</td>\n",
       "      <td>0.0</td>\n",
       "      <td>0.0</td>\n",
       "      <td>0.0</td>\n",
       "      <td>1.0</td>\n",
       "      <td>0.0</td>\n",
       "      <td>0.0</td>\n",
       "      <td>0.0</td>\n",
       "      <td>0.0</td>\n",
       "      <td>...</td>\n",
       "      <td>0.0</td>\n",
       "      <td>0.0</td>\n",
       "      <td>1.0</td>\n",
       "      <td>0.0</td>\n",
       "      <td>0.0</td>\n",
       "      <td>0.0</td>\n",
       "      <td>0.0</td>\n",
       "      <td>0.0</td>\n",
       "      <td>0.0</td>\n",
       "      <td>0.0</td>\n",
       "    </tr>\n",
       "  </tbody>\n",
       "</table>\n",
       "<p>5 rows × 5000 columns</p>\n",
       "</div>"
      ],
      "text/plain": [
       "                       0        1        2        3        4        5     \\\n",
       "gender                  1.0      0.0      0.0      0.0      1.0      1.0   \n",
       "age                    41.0     46.0     29.0     21.0     28.0     43.0   \n",
       "income              49600.0  38000.0  21000.0  41700.0  26100.0  41000.0   \n",
       "family_members          1.0      1.0      0.0      2.0      0.0      2.0   \n",
       "insurance_benefits      0.0      1.0      0.0      0.0      0.0      1.0   \n",
       "\n",
       "                       6        7        8        9     ...     4990     4991  \\\n",
       "gender                  1.0      1.0      1.0      1.0  ...      0.0      0.0   \n",
       "age                    39.0     25.0     36.0     32.0  ...     22.0     21.0   \n",
       "income              39700.0  38600.0  49700.0  51700.0  ...  56800.0  38300.0   \n",
       "family_members          2.0      4.0      1.0      1.0  ...      1.0      3.0   \n",
       "insurance_benefits      0.0      0.0      0.0      0.0  ...      0.0      0.0   \n",
       "\n",
       "                       4992     4993     4994     4995     4996     4997  \\\n",
       "gender                  0.0      1.0      1.0      0.0      0.0      0.0   \n",
       "age                    45.0     32.0     26.0     28.0     34.0     20.0   \n",
       "income              54600.0  36000.0  51400.0  35700.0  52400.0  33900.0   \n",
       "family_members          0.0      1.0      0.0      2.0      1.0      2.0   \n",
       "insurance_benefits      1.0      0.0      0.0      0.0      0.0      0.0   \n",
       "\n",
       "                       4998     4999  \n",
       "gender                  1.0      1.0  \n",
       "age                    22.0     28.0  \n",
       "income              32700.0  40600.0  \n",
       "family_members          3.0      1.0  \n",
       "insurance_benefits      0.0      0.0  \n",
       "\n",
       "[5 rows x 5000 columns]"
      ]
     },
     "execution_count": 37,
     "metadata": {},
     "output_type": "execute_result"
    }
   ],
   "source": [
    "insurance_data.T"
   ]
  },
  {
   "cell_type": "code",
   "execution_count": 38,
   "metadata": {
    "pycharm": {
     "name": "#%%\n"
    }
   },
   "outputs": [],
   "source": [
    "def investigate_data(data):\n",
    "    print(' ==================== Table ==========================')\n",
    "    display(data.head())\n",
    "    print(' -------------------- Info ---------------------------')\n",
    "    print(data.info())\n",
    "    print('The shape is:', data.shape)\n",
    "    print(' -------------- Data description ----------------------')\n",
    "    display(data.describe().T)\n",
    "    print('Number of duplicated rows :', data.duplicated().sum())"
   ]
  },
  {
   "cell_type": "code",
   "execution_count": 39,
   "metadata": {
    "pycharm": {
     "name": "#%%\n"
    }
   },
   "outputs": [
    {
     "name": "stdout",
     "output_type": "stream",
     "text": [
      " ==================== Table ==========================\n"
     ]
    },
    {
     "data": {
      "text/html": [
       "<div>\n",
       "<style scoped>\n",
       "    .dataframe tbody tr th:only-of-type {\n",
       "        vertical-align: middle;\n",
       "    }\n",
       "\n",
       "    .dataframe tbody tr th {\n",
       "        vertical-align: top;\n",
       "    }\n",
       "\n",
       "    .dataframe thead th {\n",
       "        text-align: right;\n",
       "    }\n",
       "</style>\n",
       "<table border=\"1\" class=\"dataframe\">\n",
       "  <thead>\n",
       "    <tr style=\"text-align: right;\">\n",
       "      <th></th>\n",
       "      <th>gender</th>\n",
       "      <th>age</th>\n",
       "      <th>income</th>\n",
       "      <th>family_members</th>\n",
       "      <th>insurance_benefits</th>\n",
       "    </tr>\n",
       "  </thead>\n",
       "  <tbody>\n",
       "    <tr>\n",
       "      <th>0</th>\n",
       "      <td>1</td>\n",
       "      <td>41.0</td>\n",
       "      <td>49600.0</td>\n",
       "      <td>1</td>\n",
       "      <td>0</td>\n",
       "    </tr>\n",
       "    <tr>\n",
       "      <th>1</th>\n",
       "      <td>0</td>\n",
       "      <td>46.0</td>\n",
       "      <td>38000.0</td>\n",
       "      <td>1</td>\n",
       "      <td>1</td>\n",
       "    </tr>\n",
       "    <tr>\n",
       "      <th>2</th>\n",
       "      <td>0</td>\n",
       "      <td>29.0</td>\n",
       "      <td>21000.0</td>\n",
       "      <td>0</td>\n",
       "      <td>0</td>\n",
       "    </tr>\n",
       "    <tr>\n",
       "      <th>3</th>\n",
       "      <td>0</td>\n",
       "      <td>21.0</td>\n",
       "      <td>41700.0</td>\n",
       "      <td>2</td>\n",
       "      <td>0</td>\n",
       "    </tr>\n",
       "    <tr>\n",
       "      <th>4</th>\n",
       "      <td>1</td>\n",
       "      <td>28.0</td>\n",
       "      <td>26100.0</td>\n",
       "      <td>0</td>\n",
       "      <td>0</td>\n",
       "    </tr>\n",
       "  </tbody>\n",
       "</table>\n",
       "</div>"
      ],
      "text/plain": [
       "   gender   age   income  family_members  insurance_benefits\n",
       "0       1  41.0  49600.0               1                   0\n",
       "1       0  46.0  38000.0               1                   1\n",
       "2       0  29.0  21000.0               0                   0\n",
       "3       0  21.0  41700.0               2                   0\n",
       "4       1  28.0  26100.0               0                   0"
      ]
     },
     "metadata": {},
     "output_type": "display_data"
    },
    {
     "name": "stdout",
     "output_type": "stream",
     "text": [
      " -------------------- Info ---------------------------\n",
      "<class 'pandas.core.frame.DataFrame'>\n",
      "RangeIndex: 5000 entries, 0 to 4999\n",
      "Data columns (total 5 columns):\n",
      " #   Column              Non-Null Count  Dtype  \n",
      "---  ------              --------------  -----  \n",
      " 0   gender              5000 non-null   int64  \n",
      " 1   age                 5000 non-null   float64\n",
      " 2   income              5000 non-null   float64\n",
      " 3   family_members      5000 non-null   int64  \n",
      " 4   insurance_benefits  5000 non-null   int64  \n",
      "dtypes: float64(2), int64(3)\n",
      "memory usage: 195.4 KB\n",
      "None\n",
      "The shape is: (5000, 5)\n",
      " -------------- Data description ----------------------\n"
     ]
    },
    {
     "data": {
      "text/html": [
       "<div>\n",
       "<style scoped>\n",
       "    .dataframe tbody tr th:only-of-type {\n",
       "        vertical-align: middle;\n",
       "    }\n",
       "\n",
       "    .dataframe tbody tr th {\n",
       "        vertical-align: top;\n",
       "    }\n",
       "\n",
       "    .dataframe thead th {\n",
       "        text-align: right;\n",
       "    }\n",
       "</style>\n",
       "<table border=\"1\" class=\"dataframe\">\n",
       "  <thead>\n",
       "    <tr style=\"text-align: right;\">\n",
       "      <th></th>\n",
       "      <th>count</th>\n",
       "      <th>mean</th>\n",
       "      <th>std</th>\n",
       "      <th>min</th>\n",
       "      <th>25%</th>\n",
       "      <th>50%</th>\n",
       "      <th>75%</th>\n",
       "      <th>max</th>\n",
       "    </tr>\n",
       "  </thead>\n",
       "  <tbody>\n",
       "    <tr>\n",
       "      <th>gender</th>\n",
       "      <td>5000.0</td>\n",
       "      <td>0.4990</td>\n",
       "      <td>0.500049</td>\n",
       "      <td>0.0</td>\n",
       "      <td>0.0</td>\n",
       "      <td>0.0</td>\n",
       "      <td>1.0</td>\n",
       "      <td>1.0</td>\n",
       "    </tr>\n",
       "    <tr>\n",
       "      <th>age</th>\n",
       "      <td>5000.0</td>\n",
       "      <td>30.9528</td>\n",
       "      <td>8.440807</td>\n",
       "      <td>18.0</td>\n",
       "      <td>24.0</td>\n",
       "      <td>30.0</td>\n",
       "      <td>37.0</td>\n",
       "      <td>65.0</td>\n",
       "    </tr>\n",
       "    <tr>\n",
       "      <th>income</th>\n",
       "      <td>5000.0</td>\n",
       "      <td>39916.3600</td>\n",
       "      <td>9900.083569</td>\n",
       "      <td>5300.0</td>\n",
       "      <td>33300.0</td>\n",
       "      <td>40200.0</td>\n",
       "      <td>46600.0</td>\n",
       "      <td>79000.0</td>\n",
       "    </tr>\n",
       "    <tr>\n",
       "      <th>family_members</th>\n",
       "      <td>5000.0</td>\n",
       "      <td>1.1942</td>\n",
       "      <td>1.091387</td>\n",
       "      <td>0.0</td>\n",
       "      <td>0.0</td>\n",
       "      <td>1.0</td>\n",
       "      <td>2.0</td>\n",
       "      <td>6.0</td>\n",
       "    </tr>\n",
       "    <tr>\n",
       "      <th>insurance_benefits</th>\n",
       "      <td>5000.0</td>\n",
       "      <td>0.1480</td>\n",
       "      <td>0.463183</td>\n",
       "      <td>0.0</td>\n",
       "      <td>0.0</td>\n",
       "      <td>0.0</td>\n",
       "      <td>0.0</td>\n",
       "      <td>5.0</td>\n",
       "    </tr>\n",
       "  </tbody>\n",
       "</table>\n",
       "</div>"
      ],
      "text/plain": [
       "                     count        mean          std     min      25%      50%  \\\n",
       "gender              5000.0      0.4990     0.500049     0.0      0.0      0.0   \n",
       "age                 5000.0     30.9528     8.440807    18.0     24.0     30.0   \n",
       "income              5000.0  39916.3600  9900.083569  5300.0  33300.0  40200.0   \n",
       "family_members      5000.0      1.1942     1.091387     0.0      0.0      1.0   \n",
       "insurance_benefits  5000.0      0.1480     0.463183     0.0      0.0      0.0   \n",
       "\n",
       "                        75%      max  \n",
       "gender                  1.0      1.0  \n",
       "age                    37.0     65.0  \n",
       "income              46600.0  79000.0  \n",
       "family_members          2.0      6.0  \n",
       "insurance_benefits      0.0      5.0  "
      ]
     },
     "metadata": {},
     "output_type": "display_data"
    },
    {
     "name": "stdout",
     "output_type": "stream",
     "text": [
      "Number of duplicated rows : 153\n"
     ]
    }
   ],
   "source": [
    "investigate_data(insurance_data)"
   ]
  },
  {
   "cell_type": "markdown",
   "metadata": {
    "pycharm": {
     "name": "#%% md\n"
    }
   },
   "source": [
    "153 duplicated rows? Let's see them"
   ]
  },
  {
   "cell_type": "code",
   "execution_count": 40,
   "metadata": {
    "pycharm": {
     "name": "#%%\n"
    }
   },
   "outputs": [
    {
     "data": {
      "text/html": [
       "<div>\n",
       "<style scoped>\n",
       "    .dataframe tbody tr th:only-of-type {\n",
       "        vertical-align: middle;\n",
       "    }\n",
       "\n",
       "    .dataframe tbody tr th {\n",
       "        vertical-align: top;\n",
       "    }\n",
       "\n",
       "    .dataframe thead th {\n",
       "        text-align: right;\n",
       "    }\n",
       "</style>\n",
       "<table border=\"1\" class=\"dataframe\">\n",
       "  <thead>\n",
       "    <tr style=\"text-align: right;\">\n",
       "      <th></th>\n",
       "      <th>281</th>\n",
       "      <th>488</th>\n",
       "      <th>513</th>\n",
       "      <th>718</th>\n",
       "      <th>785</th>\n",
       "      <th>869</th>\n",
       "      <th>887</th>\n",
       "      <th>1004</th>\n",
       "      <th>1089</th>\n",
       "      <th>1091</th>\n",
       "      <th>...</th>\n",
       "      <th>4702</th>\n",
       "      <th>4726</th>\n",
       "      <th>4755</th>\n",
       "      <th>4764</th>\n",
       "      <th>4781</th>\n",
       "      <th>4793</th>\n",
       "      <th>4902</th>\n",
       "      <th>4935</th>\n",
       "      <th>4945</th>\n",
       "      <th>4965</th>\n",
       "    </tr>\n",
       "  </thead>\n",
       "  <tbody>\n",
       "    <tr>\n",
       "      <th>gender</th>\n",
       "      <td>1.0</td>\n",
       "      <td>1.0</td>\n",
       "      <td>0.0</td>\n",
       "      <td>1.0</td>\n",
       "      <td>0.0</td>\n",
       "      <td>1.0</td>\n",
       "      <td>1.0</td>\n",
       "      <td>1.0</td>\n",
       "      <td>0.0</td>\n",
       "      <td>1.0</td>\n",
       "      <td>...</td>\n",
       "      <td>0.0</td>\n",
       "      <td>1.0</td>\n",
       "      <td>0.0</td>\n",
       "      <td>0.0</td>\n",
       "      <td>1.0</td>\n",
       "      <td>1.0</td>\n",
       "      <td>1.0</td>\n",
       "      <td>1.0</td>\n",
       "      <td>1.0</td>\n",
       "      <td>0.0</td>\n",
       "    </tr>\n",
       "    <tr>\n",
       "      <th>age</th>\n",
       "      <td>39.0</td>\n",
       "      <td>24.0</td>\n",
       "      <td>31.0</td>\n",
       "      <td>22.0</td>\n",
       "      <td>20.0</td>\n",
       "      <td>24.0</td>\n",
       "      <td>19.0</td>\n",
       "      <td>29.0</td>\n",
       "      <td>27.0</td>\n",
       "      <td>41.0</td>\n",
       "      <td>...</td>\n",
       "      <td>33.0</td>\n",
       "      <td>19.0</td>\n",
       "      <td>31.0</td>\n",
       "      <td>30.0</td>\n",
       "      <td>40.0</td>\n",
       "      <td>24.0</td>\n",
       "      <td>35.0</td>\n",
       "      <td>19.0</td>\n",
       "      <td>21.0</td>\n",
       "      <td>22.0</td>\n",
       "    </tr>\n",
       "    <tr>\n",
       "      <th>income</th>\n",
       "      <td>48100.0</td>\n",
       "      <td>32900.0</td>\n",
       "      <td>37400.0</td>\n",
       "      <td>32600.0</td>\n",
       "      <td>35800.0</td>\n",
       "      <td>33100.0</td>\n",
       "      <td>35500.0</td>\n",
       "      <td>42400.0</td>\n",
       "      <td>46800.0</td>\n",
       "      <td>34000.0</td>\n",
       "      <td>...</td>\n",
       "      <td>33700.0</td>\n",
       "      <td>31700.0</td>\n",
       "      <td>40700.0</td>\n",
       "      <td>31400.0</td>\n",
       "      <td>37400.0</td>\n",
       "      <td>37800.0</td>\n",
       "      <td>38700.0</td>\n",
       "      <td>32700.0</td>\n",
       "      <td>45800.0</td>\n",
       "      <td>40100.0</td>\n",
       "    </tr>\n",
       "    <tr>\n",
       "      <th>family_members</th>\n",
       "      <td>1.0</td>\n",
       "      <td>1.0</td>\n",
       "      <td>2.0</td>\n",
       "      <td>1.0</td>\n",
       "      <td>0.0</td>\n",
       "      <td>1.0</td>\n",
       "      <td>0.0</td>\n",
       "      <td>0.0</td>\n",
       "      <td>2.0</td>\n",
       "      <td>1.0</td>\n",
       "      <td>...</td>\n",
       "      <td>2.0</td>\n",
       "      <td>1.0</td>\n",
       "      <td>0.0</td>\n",
       "      <td>2.0</td>\n",
       "      <td>2.0</td>\n",
       "      <td>0.0</td>\n",
       "      <td>1.0</td>\n",
       "      <td>0.0</td>\n",
       "      <td>0.0</td>\n",
       "      <td>1.0</td>\n",
       "    </tr>\n",
       "    <tr>\n",
       "      <th>insurance_benefits</th>\n",
       "      <td>0.0</td>\n",
       "      <td>0.0</td>\n",
       "      <td>0.0</td>\n",
       "      <td>0.0</td>\n",
       "      <td>0.0</td>\n",
       "      <td>0.0</td>\n",
       "      <td>0.0</td>\n",
       "      <td>0.0</td>\n",
       "      <td>0.0</td>\n",
       "      <td>0.0</td>\n",
       "      <td>...</td>\n",
       "      <td>0.0</td>\n",
       "      <td>0.0</td>\n",
       "      <td>0.0</td>\n",
       "      <td>0.0</td>\n",
       "      <td>0.0</td>\n",
       "      <td>0.0</td>\n",
       "      <td>0.0</td>\n",
       "      <td>0.0</td>\n",
       "      <td>0.0</td>\n",
       "      <td>0.0</td>\n",
       "    </tr>\n",
       "  </tbody>\n",
       "</table>\n",
       "<p>5 rows × 153 columns</p>\n",
       "</div>"
      ],
      "text/plain": [
       "                       281      488      513      718      785      869   \\\n",
       "gender                  1.0      1.0      0.0      1.0      0.0      1.0   \n",
       "age                    39.0     24.0     31.0     22.0     20.0     24.0   \n",
       "income              48100.0  32900.0  37400.0  32600.0  35800.0  33100.0   \n",
       "family_members          1.0      1.0      2.0      1.0      0.0      1.0   \n",
       "insurance_benefits      0.0      0.0      0.0      0.0      0.0      0.0   \n",
       "\n",
       "                       887      1004     1089     1091  ...     4702     4726  \\\n",
       "gender                  1.0      1.0      0.0      1.0  ...      0.0      1.0   \n",
       "age                    19.0     29.0     27.0     41.0  ...     33.0     19.0   \n",
       "income              35500.0  42400.0  46800.0  34000.0  ...  33700.0  31700.0   \n",
       "family_members          0.0      0.0      2.0      1.0  ...      2.0      1.0   \n",
       "insurance_benefits      0.0      0.0      0.0      0.0  ...      0.0      0.0   \n",
       "\n",
       "                       4755     4764     4781     4793     4902     4935  \\\n",
       "gender                  0.0      0.0      1.0      1.0      1.0      1.0   \n",
       "age                    31.0     30.0     40.0     24.0     35.0     19.0   \n",
       "income              40700.0  31400.0  37400.0  37800.0  38700.0  32700.0   \n",
       "family_members          0.0      2.0      2.0      0.0      1.0      0.0   \n",
       "insurance_benefits      0.0      0.0      0.0      0.0      0.0      0.0   \n",
       "\n",
       "                       4945     4965  \n",
       "gender                  1.0      0.0  \n",
       "age                    21.0     22.0  \n",
       "income              45800.0  40100.0  \n",
       "family_members          0.0      1.0  \n",
       "insurance_benefits      0.0      0.0  \n",
       "\n",
       "[5 rows x 153 columns]"
      ]
     },
     "execution_count": 40,
     "metadata": {},
     "output_type": "execute_result"
    }
   ],
   "source": [
    "insurance_data[insurance_data.duplicated()].T"
   ]
  },
  {
   "cell_type": "markdown",
   "metadata": {
    "pycharm": {
     "name": "#%% md\n"
    }
   },
   "source": [
    "Age and income columns are of type float and they really should be integer. Let's change them."
   ]
  },
  {
   "cell_type": "code",
   "execution_count": 41,
   "metadata": {
    "pycharm": {
     "name": "#%%\n"
    }
   },
   "outputs": [],
   "source": [
    "insurance_data.age=insurance_data.age.astype(int)\n",
    "insurance_data.income=insurance_data.income.astype(int)"
   ]
  },
  {
   "cell_type": "code",
   "execution_count": 42,
   "metadata": {
    "pycharm": {
     "name": "#%%\n"
    }
   },
   "outputs": [
    {
     "data": {
      "image/png": "[encoded data removed]",
      "text/plain": [
       "<Figure size 936x1080 with 6 Axes>"
      ]
     },
     "metadata": {
      "needs_background": "light"
     },
     "output_type": "display_data"
    }
   ],
   "source": [
    "insurance_data.hist(figsize=(13, 15));"
   ]
  },
  {
   "cell_type": "code",
   "execution_count": 43,
   "metadata": {
    "pycharm": {
     "name": "#%%\n"
    }
   },
   "outputs": [
    {
     "data": {
      "image/png": "[encoded data removed]",
      "text/plain": [
       "<Figure size 936x1080 with 5 Axes>"
      ]
     },
     "metadata": {
      "needs_background": "light"
     },
     "output_type": "display_data"
    }
   ],
   "source": [
    "fig, axes = plt.subplots(nrows=5, ncols=1, figsize=(13, 15), sharey=False)\n",
    "fig.suptitle('Density of data for each column', fontsize=15, y=1)\n",
    "\n",
    "for c in range(insurance_data.columns.shape[0]):\n",
    "    sns.kdeplot(insurance_data[insurance_data.columns[c]], ax=axes[c], shade='fill', label=insurance_data.columns[c])\n",
    "    axes[c].legend()\n",
    "    axes[c].xaxis.set_label_position('top')\n",
    "\n",
    "plt.tight_layout()\n",
    "plt.show()"
   ]
  },
  {
   "cell_type": "code",
   "execution_count": 44,
   "metadata": {
    "pycharm": {
     "name": "#%%\n"
    }
   },
   "outputs": [
    {
     "name": "stderr",
     "output_type": "stream",
     "text": [
      "No handles with labels found to put in legend.\n",
      "No handles with labels found to put in legend.\n",
      "No handles with labels found to put in legend.\n",
      "No handles with labels found to put in legend.\n",
      "No handles with labels found to put in legend.\n"
     ]
    },
    {
     "data": {
      "image/png": "[encoded data removed]",
      "text/plain": [
       "<Figure size 936x1080 with 5 Axes>"
      ]
     },
     "metadata": {
      "needs_background": "light"
     },
     "output_type": "display_data"
    }
   ],
   "source": [
    "fig, axes = plt.subplots(nrows=5, ncols=1, figsize=(13, 15), sharey=False)\n",
    "fig.suptitle('Boxplot graph for each column', fontsize=15, y=1)\n",
    "\n",
    "for c in range(insurance_data.columns.shape[0]):\n",
    "    sns.boxplot(insurance_data[insurance_data.columns[c]], ax=axes[c])\n",
    "    axes[c].legend()\n",
    "    axes[c].xaxis.set_label_position('top')\n",
    "\n",
    "plt.tight_layout()\n",
    "plt.show()"
   ]
  },
  {
   "cell_type": "markdown",
   "metadata": {
    "pycharm": {
     "name": "#%% md\n"
    }
   },
   "source": [
    "1.3 Notes: **We see that the data seems to be in order**. There are no null values. We see some outliers in the boxplots but looking manually through the data there doesn't seem to be outliers (the maximum age 65 is reasonable even if it's Q+/-1.5*IQR away from the the median.) There are 153 duplicated rows but looking at them, it's entirely possible that there are legitimate."
   ]
  },
  {
   "cell_type": "markdown",
   "metadata": {
    "pycharm": {
     "name": "#%% md\n"
    }
   },
   "source": [
    "## EDA"
   ]
  },
  {
   "cell_type": "markdown",
   "metadata": {
    "pycharm": {
     "name": "#%% md\n"
    }
   },
   "source": [
    "Let's quickly check whether there are certain groups of customers by looking at the pair plot."
   ]
  },
  {
   "cell_type": "code",
   "execution_count": 45,
   "metadata": {
    "pycharm": {
     "name": "#%%\n"
    }
   },
   "outputs": [
    {
     "data": {
      "image/png": "[encoded data removed]",
      "text/plain": [
       "<Figure size 864x864 with 30 Axes>"
      ]
     },
     "metadata": {
      "needs_background": "light"
     },
     "output_type": "display_data"
    }
   ],
   "source": [
    "g = sns.pairplot(insurance_data, kind='hist')\n",
    "g.fig.set_size_inches(12, 12)"
   ]
  },
  {
   "cell_type": "markdown",
   "metadata": {
    "pycharm": {
     "name": "#%% md\n"
    }
   },
   "source": [
    "Ok, it is a bit difficult to spot obvious groups (clusters) as it is difficult to combine several variables simultaneously (to analyze multivariate distributions). That's where LA and ML can be quite handy."
   ]
  },
  {
   "cell_type": "code",
   "execution_count": 46,
   "metadata": {
    "pycharm": {
     "name": "#%%\n"
    }
   },
   "outputs": [
    {
     "data": {
      "text/html": [
       "<div>\n",
       "<style scoped>\n",
       "    .dataframe tbody tr th:only-of-type {\n",
       "        vertical-align: middle;\n",
       "    }\n",
       "\n",
       "    .dataframe tbody tr th {\n",
       "        vertical-align: top;\n",
       "    }\n",
       "\n",
       "    .dataframe thead th {\n",
       "        text-align: right;\n",
       "    }\n",
       "</style>\n",
       "<table border=\"1\" class=\"dataframe\">\n",
       "  <thead>\n",
       "    <tr style=\"text-align: right;\">\n",
       "      <th></th>\n",
       "      <th>gender</th>\n",
       "      <th>age</th>\n",
       "      <th>income</th>\n",
       "      <th>family_members</th>\n",
       "      <th>insurance_benefits</th>\n",
       "    </tr>\n",
       "  </thead>\n",
       "  <tbody>\n",
       "    <tr>\n",
       "      <th>gender</th>\n",
       "      <td>1.000000</td>\n",
       "      <td>0.002074</td>\n",
       "      <td>0.014910</td>\n",
       "      <td>-0.008991</td>\n",
       "      <td>0.010140</td>\n",
       "    </tr>\n",
       "    <tr>\n",
       "      <th>age</th>\n",
       "      <td>0.002074</td>\n",
       "      <td>1.000000</td>\n",
       "      <td>-0.019093</td>\n",
       "      <td>-0.006692</td>\n",
       "      <td>0.651030</td>\n",
       "    </tr>\n",
       "    <tr>\n",
       "      <th>income</th>\n",
       "      <td>0.014910</td>\n",
       "      <td>-0.019093</td>\n",
       "      <td>1.000000</td>\n",
       "      <td>-0.030296</td>\n",
       "      <td>-0.014963</td>\n",
       "    </tr>\n",
       "    <tr>\n",
       "      <th>family_members</th>\n",
       "      <td>-0.008991</td>\n",
       "      <td>-0.006692</td>\n",
       "      <td>-0.030296</td>\n",
       "      <td>1.000000</td>\n",
       "      <td>-0.036290</td>\n",
       "    </tr>\n",
       "    <tr>\n",
       "      <th>insurance_benefits</th>\n",
       "      <td>0.010140</td>\n",
       "      <td>0.651030</td>\n",
       "      <td>-0.014963</td>\n",
       "      <td>-0.036290</td>\n",
       "      <td>1.000000</td>\n",
       "    </tr>\n",
       "  </tbody>\n",
       "</table>\n",
       "</div>"
      ],
      "text/plain": [
       "                      gender       age    income  family_members  \\\n",
       "gender              1.000000  0.002074  0.014910       -0.008991   \n",
       "age                 0.002074  1.000000 -0.019093       -0.006692   \n",
       "income              0.014910 -0.019093  1.000000       -0.030296   \n",
       "family_members     -0.008991 -0.006692 -0.030296        1.000000   \n",
       "insurance_benefits  0.010140  0.651030 -0.014963       -0.036290   \n",
       "\n",
       "                    insurance_benefits  \n",
       "gender                        0.010140  \n",
       "age                           0.651030  \n",
       "income                       -0.014963  \n",
       "family_members               -0.036290  \n",
       "insurance_benefits            1.000000  "
      ]
     },
     "execution_count": 46,
     "metadata": {},
     "output_type": "execute_result"
    }
   ],
   "source": [
    "insurance_data.corr()"
   ]
  },
  {
   "cell_type": "markdown",
   "metadata": {
    "pycharm": {
     "name": "#%% md\n"
    }
   },
   "source": [
    "We see that by far the Age best correlates with receiving insurance benefits."
   ]
  },
  {
   "cell_type": "markdown",
   "metadata": {
    "pycharm": {
     "name": "#%% md\n"
    }
   },
   "source": [
    "##    Task 1: Similar customers"
   ]
  },
  {
   "cell_type": "markdown",
   "metadata": {
    "pycharm": {
     "name": "#%% md\n"
    }
   },
   "source": [
    "In the language of ML, it is necessary to develop a procedure that returns k nearest neighbors (objects) for a given object based on the distance between the objects.\n",
    "\n",
    "You may want to review the following lessons (chapter -> lesson)\n",
    "- Distance Between Vectors -> Euclidean Distance\n",
    "- Distance Between Vectors -> Manhattan Distance\n",
    "\n",
    "To solve the task, we can try different distance metrics."
   ]
  },
  {
   "cell_type": "markdown",
   "metadata": {
    "pycharm": {
     "name": "#%% md\n"
    }
   },
   "source": [
    "Write a function that returns k nearest neighbors for an $n^{th}$ object based on a specified distance metric. The number of received insurance benefits should not be taken into account for this task.\n",
    "\n",
    "You can use a ready implementation of the kNN algorithm from scikit-learn (check [the link](https://scikit-learn.org/stable/modules/generated/sklearn.neighbors.NearestNeighbors.html#sklearn.neighbors.NearestNeighbors)) or use your own.\n",
    "\n",
    "Test it for four combination of two cases\n",
    "- Scaling\n",
    "  - the data is not scaled\n",
    "  - the data is scaled with the [MaxAbsScaler](https://scikit-learn.org/stable/modules/generated/sklearn.preprocessing.MaxAbsScaler.html) scaler\n",
    "- Distance Metrics\n",
    "  - Euclidean\n",
    "  - Manhattan\n",
    "\n",
    "Answer these questions:\n",
    "- Does the data being not scaled affect the kNN algorithm? If so, how does that appear?\n",
    "- How similar are the results using the Manhattan distance metric (regardless of the scaling)?"
   ]
  },
  {
   "cell_type": "code",
   "execution_count": 47,
   "metadata": {
    "pycharm": {
     "name": "#%%\n"
    }
   },
   "outputs": [],
   "source": [
    "insurance_data.reset_index(drop=True,inplace=True)\n",
    "\n",
    "\n",
    "#Function for calculating Euclidian Distance between two vectors\n",
    "def euclidian_distance(x, y):\n",
    "    return np.dot(x - y, x - y) ** 0.5\n",
    "\n",
    "def manhattan_distance(x, y):\n",
    "    return sum(abs(x - y))\n",
    "\n",
    "#translates a customer from dictionary format to vector format\n",
    "def dict_to_vect(dict):\n",
    "    return np.array(list(dict.values())).reshape(1,-1)\n",
    "\n",
    "\n",
    "#Calculating the distance from the vector to the rest of the dataset.\n",
    "#This function returns two datasets containing only  the index and distance. One based on The Euclidian Distance and the other on Manhattan Distance.\n",
    "def data_vector_distance(data, vector):\n",
    "    temp_data = pd.DataFrame(index=data.index)\n",
    "    temp_data['euclid_distance']=np.nan\n",
    "    temp_data['manhat_distance']=np.nan\n",
    "    for i in range(len(data)):\n",
    "        temp_data.loc[i, 'euclid_distance'] = euclidian_distance(data.loc[i, 'gender':'insurance_benefits'], vector[0])\n",
    "        temp_data.loc[i, 'manhat_distance'] = manhattan_distance(data.loc[i,'gender':'insurance_benefits'], vector[0])\n",
    "    return temp_data\n",
    "\n",
    "\n",
    "#This function returns the whole dataset.\n",
    "def full_data_vector_distance(data, vector):\n",
    "    data['euclid_distance']=np.nan\n",
    "    data['manhat_distance']=np.nan\n",
    "    for i in range(len(data)):\n",
    "        data.loc[i, 'euclid_distance'] = euclidian_distance(data.loc[i, 'gender':'insurance_benefits'], vector[0])\n",
    "        data.loc[i, 'manhat_distance'] = manhattan_distance(data.loc[i, 'gender':'insurance_benefits'], vector[0])\n",
    "    data.sort_values('euclid_distance', axis=0, ascending=True, inplace=True)\n",
    "    return data\n",
    "\n",
    "def customer_distance_scaled(data, scaled_data, customer_dict, quantity, scaler):\n",
    "    #scaling the customer vector with the same scaler used for the rest of the dataset\n",
    "    customer_scaled_vector=scaler.transform(dict_to_vect(customer_dict))\n",
    "    #retrieving the required number of neighbors based on the distance to our customer\n",
    "    scaled_data_to_return=data_vector_distance(scaled_data,customer_scaled_vector)\n",
    "    #translating the scaled data back to human-readable based on the index\n",
    "    return data.loc[scaled_data_to_return.sort_values('euclid_distance', axis=0, ascending=True).head(quantity).index,],\\\n",
    "            data.loc[scaled_data_to_return.sort_values('manhat_distance', axis=0, ascending=True).head(quantity).index,]\n",
    "\n",
    "def customer_distance_unscaled(data, customer_dict, quantity):\n",
    "    #retrieving the neighbors based on the distance to our customer\n",
    "    data_to_return=full_data_vector_distance(data,dict_to_vect(customer_dict))\n",
    "    return data_to_return.sort_values('euclid_distance', axis=0, ascending=True).head(quantity),\\\n",
    "            data_to_return.sort_values('manhat_distance', axis=0, ascending=True).head(quantity)\n",
    "\n"
   ]
  },
  {
   "cell_type": "markdown",
   "metadata": {
    "pycharm": {
     "name": "#%% md\n"
    }
   },
   "source": [
    "To which customer we want to find neighbors?"
   ]
  },
  {
   "cell_type": "code",
   "execution_count": 48,
   "metadata": {
    "pycharm": {
     "name": "#%%\n"
    }
   },
   "outputs": [],
   "source": [
    "customer = {\n",
    "    'Gender': 1,\n",
    "    'Age': 30,\n",
    "    'Salary': 30000,\n",
    "    'Family members': 1,\n",
    "    'Insurance benefits': 0\n",
    "}"
   ]
  },
  {
   "cell_type": "code",
   "execution_count": 49,
   "metadata": {
    "pycharm": {
     "name": "#%%\n"
    }
   },
   "outputs": [],
   "source": [
    "customer2 = {\n",
    "    'Gender': 1,\n",
    "    'Age': 60,\n",
    "    'Salary': 35000,\n",
    "    'Family members': 1,\n",
    "    'Insurance benefits': 0\n",
    "}"
   ]
  },
  {
   "cell_type": "code",
   "execution_count": 50,
   "metadata": {
    "pycharm": {
     "name": "#%%\n"
    }
   },
   "outputs": [],
   "source": [
    "customer3 = {\n",
    "    'Gender': 1,\n",
    "    'Age': 60,\n",
    "    'Salary': 30000,\n",
    "    'Family members': 1,\n",
    "    'Insurance benefits': 0\n",
    "}"
   ]
  },
  {
   "cell_type": "code",
   "execution_count": null,
   "metadata": {},
   "outputs": [],
   "source": []
  },
  {
   "cell_type": "markdown",
   "metadata": {
    "pycharm": {
     "name": "#%% md\n"
    }
   },
   "source": [
    "### Unscaled Data"
   ]
  },
  {
   "cell_type": "code",
   "execution_count": 51,
   "metadata": {
    "pycharm": {
     "name": "#%%\n"
    }
   },
   "outputs": [
    {
     "name": "stdout",
     "output_type": "stream",
     "text": [
      "Showing neighbors of customer {'Gender': 1, 'Age': 30, 'Salary': 30000, 'Family members': 1, 'Insurance benefits': 0}\n",
      "============= Unscaled sorted by Euclidian Distance ==============\n"
     ]
    },
    {
     "data": {
      "text/html": [
       "<div>\n",
       "<style scoped>\n",
       "    .dataframe tbody tr th:only-of-type {\n",
       "        vertical-align: middle;\n",
       "    }\n",
       "\n",
       "    .dataframe tbody tr th {\n",
       "        vertical-align: top;\n",
       "    }\n",
       "\n",
       "    .dataframe thead th {\n",
       "        text-align: right;\n",
       "    }\n",
       "</style>\n",
       "<table border=\"1\" class=\"dataframe\">\n",
       "  <thead>\n",
       "    <tr style=\"text-align: right;\">\n",
       "      <th></th>\n",
       "      <th>4034</th>\n",
       "      <th>3933</th>\n",
       "      <th>3158</th>\n",
       "      <th>2946</th>\n",
       "      <th>1283</th>\n",
       "      <th>3142</th>\n",
       "      <th>1138</th>\n",
       "      <th>2111</th>\n",
       "    </tr>\n",
       "  </thead>\n",
       "  <tbody>\n",
       "    <tr>\n",
       "      <th>gender</th>\n",
       "      <td>0.000000</td>\n",
       "      <td>1.0</td>\n",
       "      <td>1.000000</td>\n",
       "      <td>1.0</td>\n",
       "      <td>0.000000</td>\n",
       "      <td>0.000000</td>\n",
       "      <td>0.000000</td>\n",
       "      <td>0.000000</td>\n",
       "    </tr>\n",
       "    <tr>\n",
       "      <th>age</th>\n",
       "      <td>29.000000</td>\n",
       "      <td>27.0</td>\n",
       "      <td>27.000000</td>\n",
       "      <td>26.0</td>\n",
       "      <td>26.000000</td>\n",
       "      <td>26.000000</td>\n",
       "      <td>25.000000</td>\n",
       "      <td>25.000000</td>\n",
       "    </tr>\n",
       "    <tr>\n",
       "      <th>income</th>\n",
       "      <td>30000.000000</td>\n",
       "      <td>30000.0</td>\n",
       "      <td>30000.000000</td>\n",
       "      <td>30000.0</td>\n",
       "      <td>30000.000000</td>\n",
       "      <td>30000.000000</td>\n",
       "      <td>30000.000000</td>\n",
       "      <td>30000.000000</td>\n",
       "    </tr>\n",
       "    <tr>\n",
       "      <th>family_members</th>\n",
       "      <td>0.000000</td>\n",
       "      <td>1.0</td>\n",
       "      <td>3.000000</td>\n",
       "      <td>1.0</td>\n",
       "      <td>1.000000</td>\n",
       "      <td>0.000000</td>\n",
       "      <td>0.000000</td>\n",
       "      <td>3.000000</td>\n",
       "    </tr>\n",
       "    <tr>\n",
       "      <th>insurance_benefits</th>\n",
       "      <td>0.000000</td>\n",
       "      <td>0.0</td>\n",
       "      <td>0.000000</td>\n",
       "      <td>0.0</td>\n",
       "      <td>0.000000</td>\n",
       "      <td>0.000000</td>\n",
       "      <td>0.000000</td>\n",
       "      <td>0.000000</td>\n",
       "    </tr>\n",
       "    <tr>\n",
       "      <th>euclid_distance</th>\n",
       "      <td>1.732051</td>\n",
       "      <td>3.0</td>\n",
       "      <td>3.605551</td>\n",
       "      <td>4.0</td>\n",
       "      <td>4.123106</td>\n",
       "      <td>4.242641</td>\n",
       "      <td>5.196152</td>\n",
       "      <td>5.477226</td>\n",
       "    </tr>\n",
       "    <tr>\n",
       "      <th>manhat_distance</th>\n",
       "      <td>3.000000</td>\n",
       "      <td>3.0</td>\n",
       "      <td>5.000000</td>\n",
       "      <td>4.0</td>\n",
       "      <td>5.000000</td>\n",
       "      <td>6.000000</td>\n",
       "      <td>7.000000</td>\n",
       "      <td>8.000000</td>\n",
       "    </tr>\n",
       "  </tbody>\n",
       "</table>\n",
       "</div>"
      ],
      "text/plain": [
       "                            4034     3933          3158     2946  \\\n",
       "gender                  0.000000      1.0      1.000000      1.0   \n",
       "age                    29.000000     27.0     27.000000     26.0   \n",
       "income              30000.000000  30000.0  30000.000000  30000.0   \n",
       "family_members          0.000000      1.0      3.000000      1.0   \n",
       "insurance_benefits      0.000000      0.0      0.000000      0.0   \n",
       "euclid_distance         1.732051      3.0      3.605551      4.0   \n",
       "manhat_distance         3.000000      3.0      5.000000      4.0   \n",
       "\n",
       "                            1283          3142          1138          2111  \n",
       "gender                  0.000000      0.000000      0.000000      0.000000  \n",
       "age                    26.000000     26.000000     25.000000     25.000000  \n",
       "income              30000.000000  30000.000000  30000.000000  30000.000000  \n",
       "family_members          1.000000      0.000000      0.000000      3.000000  \n",
       "insurance_benefits      0.000000      0.000000      0.000000      0.000000  \n",
       "euclid_distance         4.123106      4.242641      5.196152      5.477226  \n",
       "manhat_distance         5.000000      6.000000      7.000000      8.000000  "
      ]
     },
     "metadata": {},
     "output_type": "display_data"
    },
    {
     "name": "stdout",
     "output_type": "stream",
     "text": [
      "============= Unscaled sorted by Manhattan Distance ==============\n"
     ]
    },
    {
     "data": {
      "text/html": [
       "<div>\n",
       "<style scoped>\n",
       "    .dataframe tbody tr th:only-of-type {\n",
       "        vertical-align: middle;\n",
       "    }\n",
       "\n",
       "    .dataframe tbody tr th {\n",
       "        vertical-align: top;\n",
       "    }\n",
       "\n",
       "    .dataframe thead th {\n",
       "        text-align: right;\n",
       "    }\n",
       "</style>\n",
       "<table border=\"1\" class=\"dataframe\">\n",
       "  <thead>\n",
       "    <tr style=\"text-align: right;\">\n",
       "      <th></th>\n",
       "      <th>4034</th>\n",
       "      <th>3933</th>\n",
       "      <th>2946</th>\n",
       "      <th>3158</th>\n",
       "      <th>1283</th>\n",
       "      <th>4635</th>\n",
       "      <th>3142</th>\n",
       "      <th>1138</th>\n",
       "    </tr>\n",
       "  </thead>\n",
       "  <tbody>\n",
       "    <tr>\n",
       "      <th>gender</th>\n",
       "      <td>0.000000</td>\n",
       "      <td>1.0</td>\n",
       "      <td>1.0</td>\n",
       "      <td>1.000000</td>\n",
       "      <td>0.000000</td>\n",
       "      <td>1.0</td>\n",
       "      <td>0.000000</td>\n",
       "      <td>0.000000</td>\n",
       "    </tr>\n",
       "    <tr>\n",
       "      <th>age</th>\n",
       "      <td>29.000000</td>\n",
       "      <td>27.0</td>\n",
       "      <td>26.0</td>\n",
       "      <td>27.000000</td>\n",
       "      <td>26.000000</td>\n",
       "      <td>24.0</td>\n",
       "      <td>26.000000</td>\n",
       "      <td>25.000000</td>\n",
       "    </tr>\n",
       "    <tr>\n",
       "      <th>income</th>\n",
       "      <td>30000.000000</td>\n",
       "      <td>30000.0</td>\n",
       "      <td>30000.0</td>\n",
       "      <td>30000.000000</td>\n",
       "      <td>30000.000000</td>\n",
       "      <td>30000.0</td>\n",
       "      <td>30000.000000</td>\n",
       "      <td>30000.000000</td>\n",
       "    </tr>\n",
       "    <tr>\n",
       "      <th>family_members</th>\n",
       "      <td>0.000000</td>\n",
       "      <td>1.0</td>\n",
       "      <td>1.0</td>\n",
       "      <td>3.000000</td>\n",
       "      <td>1.000000</td>\n",
       "      <td>1.0</td>\n",
       "      <td>0.000000</td>\n",
       "      <td>0.000000</td>\n",
       "    </tr>\n",
       "    <tr>\n",
       "      <th>insurance_benefits</th>\n",
       "      <td>0.000000</td>\n",
       "      <td>0.0</td>\n",
       "      <td>0.0</td>\n",
       "      <td>0.000000</td>\n",
       "      <td>0.000000</td>\n",
       "      <td>0.0</td>\n",
       "      <td>0.000000</td>\n",
       "      <td>0.000000</td>\n",
       "    </tr>\n",
       "    <tr>\n",
       "      <th>euclid_distance</th>\n",
       "      <td>1.732051</td>\n",
       "      <td>3.0</td>\n",
       "      <td>4.0</td>\n",
       "      <td>3.605551</td>\n",
       "      <td>4.123106</td>\n",
       "      <td>6.0</td>\n",
       "      <td>4.242641</td>\n",
       "      <td>5.196152</td>\n",
       "    </tr>\n",
       "    <tr>\n",
       "      <th>manhat_distance</th>\n",
       "      <td>3.000000</td>\n",
       "      <td>3.0</td>\n",
       "      <td>4.0</td>\n",
       "      <td>5.000000</td>\n",
       "      <td>5.000000</td>\n",
       "      <td>6.0</td>\n",
       "      <td>6.000000</td>\n",
       "      <td>7.000000</td>\n",
       "    </tr>\n",
       "  </tbody>\n",
       "</table>\n",
       "</div>"
      ],
      "text/plain": [
       "                            4034     3933     2946          3158  \\\n",
       "gender                  0.000000      1.0      1.0      1.000000   \n",
       "age                    29.000000     27.0     26.0     27.000000   \n",
       "income              30000.000000  30000.0  30000.0  30000.000000   \n",
       "family_members          0.000000      1.0      1.0      3.000000   \n",
       "insurance_benefits      0.000000      0.0      0.0      0.000000   \n",
       "euclid_distance         1.732051      3.0      4.0      3.605551   \n",
       "manhat_distance         3.000000      3.0      4.0      5.000000   \n",
       "\n",
       "                            1283     4635          3142          1138  \n",
       "gender                  0.000000      1.0      0.000000      0.000000  \n",
       "age                    26.000000     24.0     26.000000     25.000000  \n",
       "income              30000.000000  30000.0  30000.000000  30000.000000  \n",
       "family_members          1.000000      1.0      0.000000      0.000000  \n",
       "insurance_benefits      0.000000      0.0      0.000000      0.000000  \n",
       "euclid_distance         4.123106      6.0      4.242641      5.196152  \n",
       "manhat_distance         5.000000      6.0      6.000000      7.000000  "
      ]
     },
     "metadata": {},
     "output_type": "display_data"
    }
   ],
   "source": [
    "print('Showing neighbors of customer', customer)\n",
    "eu_dist,man_dist=customer_distance_unscaled(insurance_data,customer,8)\n",
    "print('============= Unscaled sorted by Euclidian Distance ==============')\n",
    "display(eu_dist.T)\n",
    "print('============= Unscaled sorted by Manhattan Distance ==============')\n",
    "display(man_dist.T)"
   ]
  },
  {
   "cell_type": "markdown",
   "metadata": {
    "pycharm": {
     "name": "#%% md\n"
    }
   },
   "source": [
    "### Scaled Data"
   ]
  },
  {
   "cell_type": "code",
   "execution_count": 52,
   "metadata": {
    "pycharm": {
     "name": "#%%\n"
    }
   },
   "outputs": [],
   "source": [
    "insurance_data.drop(['euclid_distance','manhat_distance'],axis=1,inplace=True)"
   ]
  },
  {
   "cell_type": "code",
   "execution_count": 53,
   "metadata": {
    "pycharm": {
     "name": "#%%\n"
    }
   },
   "outputs": [],
   "source": [
    "insurance_scaler = MaxAbsScaler()\n",
    "insurance_data_scaled = pd.DataFrame(insurance_scaler.fit_transform(insurance_data.copy()), columns=insurance_data.columns)"
   ]
  },
  {
   "cell_type": "code",
   "execution_count": 54,
   "metadata": {
    "pycharm": {
     "name": "#%%\n"
    },
    "scrolled": false
   },
   "outputs": [
    {
     "name": "stdout",
     "output_type": "stream",
     "text": [
      "Showing neighbors of customer {'Gender': 1, 'Age': 30, 'Salary': 30000, 'Family members': 1, 'Insurance benefits': 0}\n",
      "============= Scaled sorted by Euclidian Distance ==============\n"
     ]
    },
    {
     "data": {
      "text/html": [
       "<div>\n",
       "<style scoped>\n",
       "    .dataframe tbody tr th:only-of-type {\n",
       "        vertical-align: middle;\n",
       "    }\n",
       "\n",
       "    .dataframe tbody tr th {\n",
       "        vertical-align: top;\n",
       "    }\n",
       "\n",
       "    .dataframe thead th {\n",
       "        text-align: right;\n",
       "    }\n",
       "</style>\n",
       "<table border=\"1\" class=\"dataframe\">\n",
       "  <thead>\n",
       "    <tr style=\"text-align: right;\">\n",
       "      <th></th>\n",
       "      <th>143</th>\n",
       "      <th>102</th>\n",
       "      <th>196</th>\n",
       "      <th>197</th>\n",
       "      <th>356</th>\n",
       "      <th>355</th>\n",
       "      <th>430</th>\n",
       "      <th>479</th>\n",
       "    </tr>\n",
       "  </thead>\n",
       "  <tbody>\n",
       "    <tr>\n",
       "      <th>gender</th>\n",
       "      <td>0</td>\n",
       "      <td>1</td>\n",
       "      <td>0</td>\n",
       "      <td>0</td>\n",
       "      <td>1</td>\n",
       "      <td>0</td>\n",
       "      <td>1</td>\n",
       "      <td>1</td>\n",
       "    </tr>\n",
       "    <tr>\n",
       "      <th>age</th>\n",
       "      <td>40</td>\n",
       "      <td>43</td>\n",
       "      <td>18</td>\n",
       "      <td>45</td>\n",
       "      <td>30</td>\n",
       "      <td>45</td>\n",
       "      <td>20</td>\n",
       "      <td>41</td>\n",
       "    </tr>\n",
       "    <tr>\n",
       "      <th>income</th>\n",
       "      <td>54600</td>\n",
       "      <td>27300</td>\n",
       "      <td>39800</td>\n",
       "      <td>16600</td>\n",
       "      <td>31600</td>\n",
       "      <td>35700</td>\n",
       "      <td>28700</td>\n",
       "      <td>43200</td>\n",
       "    </tr>\n",
       "    <tr>\n",
       "      <th>family_members</th>\n",
       "      <td>1</td>\n",
       "      <td>0</td>\n",
       "      <td>4</td>\n",
       "      <td>2</td>\n",
       "      <td>3</td>\n",
       "      <td>2</td>\n",
       "      <td>0</td>\n",
       "      <td>1</td>\n",
       "    </tr>\n",
       "    <tr>\n",
       "      <th>insurance_benefits</th>\n",
       "      <td>0</td>\n",
       "      <td>1</td>\n",
       "      <td>0</td>\n",
       "      <td>1</td>\n",
       "      <td>0</td>\n",
       "      <td>1</td>\n",
       "      <td>0</td>\n",
       "      <td>0</td>\n",
       "    </tr>\n",
       "  </tbody>\n",
       "</table>\n",
       "</div>"
      ],
      "text/plain": [
       "                      143    102    196    197    356    355    430    479\n",
       "gender                  0      1      0      0      1      0      1      1\n",
       "age                    40     43     18     45     30     45     20     41\n",
       "income              54600  27300  39800  16600  31600  35700  28700  43200\n",
       "family_members          1      0      4      2      3      2      0      1\n",
       "insurance_benefits      0      1      0      1      0      1      0      0"
      ]
     },
     "metadata": {},
     "output_type": "display_data"
    },
    {
     "name": "stdout",
     "output_type": "stream",
     "text": [
      "============= Scaled sorted by Manhattan Distance ==============\n"
     ]
    },
    {
     "data": {
      "text/html": [
       "<div>\n",
       "<style scoped>\n",
       "    .dataframe tbody tr th:only-of-type {\n",
       "        vertical-align: middle;\n",
       "    }\n",
       "\n",
       "    .dataframe tbody tr th {\n",
       "        vertical-align: top;\n",
       "    }\n",
       "\n",
       "    .dataframe thead th {\n",
       "        text-align: right;\n",
       "    }\n",
       "</style>\n",
       "<table border=\"1\" class=\"dataframe\">\n",
       "  <thead>\n",
       "    <tr style=\"text-align: right;\">\n",
       "      <th></th>\n",
       "      <th>143</th>\n",
       "      <th>102</th>\n",
       "      <th>196</th>\n",
       "      <th>197</th>\n",
       "      <th>572</th>\n",
       "      <th>18</th>\n",
       "      <th>355</th>\n",
       "      <th>356</th>\n",
       "    </tr>\n",
       "  </thead>\n",
       "  <tbody>\n",
       "    <tr>\n",
       "      <th>gender</th>\n",
       "      <td>0</td>\n",
       "      <td>1</td>\n",
       "      <td>0</td>\n",
       "      <td>0</td>\n",
       "      <td>1</td>\n",
       "      <td>1</td>\n",
       "      <td>0</td>\n",
       "      <td>1</td>\n",
       "    </tr>\n",
       "    <tr>\n",
       "      <th>age</th>\n",
       "      <td>40</td>\n",
       "      <td>43</td>\n",
       "      <td>18</td>\n",
       "      <td>45</td>\n",
       "      <td>43</td>\n",
       "      <td>42</td>\n",
       "      <td>45</td>\n",
       "      <td>30</td>\n",
       "    </tr>\n",
       "    <tr>\n",
       "      <th>income</th>\n",
       "      <td>54600</td>\n",
       "      <td>27300</td>\n",
       "      <td>39800</td>\n",
       "      <td>16600</td>\n",
       "      <td>29600</td>\n",
       "      <td>49700</td>\n",
       "      <td>35700</td>\n",
       "      <td>31600</td>\n",
       "    </tr>\n",
       "    <tr>\n",
       "      <th>family_members</th>\n",
       "      <td>1</td>\n",
       "      <td>0</td>\n",
       "      <td>4</td>\n",
       "      <td>2</td>\n",
       "      <td>0</td>\n",
       "      <td>0</td>\n",
       "      <td>2</td>\n",
       "      <td>3</td>\n",
       "    </tr>\n",
       "    <tr>\n",
       "      <th>insurance_benefits</th>\n",
       "      <td>0</td>\n",
       "      <td>1</td>\n",
       "      <td>0</td>\n",
       "      <td>1</td>\n",
       "      <td>1</td>\n",
       "      <td>1</td>\n",
       "      <td>1</td>\n",
       "      <td>0</td>\n",
       "    </tr>\n",
       "  </tbody>\n",
       "</table>\n",
       "</div>"
      ],
      "text/plain": [
       "                      143    102    196    197    572    18     355    356\n",
       "gender                  0      1      0      0      1      1      0      1\n",
       "age                    40     43     18     45     43     42     45     30\n",
       "income              54600  27300  39800  16600  29600  49700  35700  31600\n",
       "family_members          1      0      4      2      0      0      2      3\n",
       "insurance_benefits      0      1      0      1      1      1      1      0"
      ]
     },
     "metadata": {},
     "output_type": "display_data"
    }
   ],
   "source": [
    "print('Showing neighbors of customer', customer)\n",
    "eu_dist, man_dist = customer_distance_scaled(insurance_data, insurance_data_scaled, customer, 8, insurance_scaler)\n",
    "print('============= Scaled sorted by Euclidian Distance ==============')\n",
    "display(eu_dist.T)\n",
    "print('============= Scaled sorted by Manhattan Distance ==============')\n",
    "display(man_dist.T)"
   ]
  },
  {
   "cell_type": "code",
   "execution_count": 55,
   "metadata": {},
   "outputs": [
    {
     "data": {
      "text/plain": [
       "(array([[1.73205081, 3.        , 3.60555128, 4.        , 4.12310563,\n",
       "         4.24264069, 5.19615242, 5.47722558]]),\n",
       " array([[0, 1, 2, 3, 4, 5, 6, 7]]))"
      ]
     },
     "execution_count": 55,
     "metadata": {},
     "output_type": "execute_result"
    }
   ],
   "source": [
    "neigh = NearestNeighbors(n_neighbors=8)\n",
    "neigh.fit(insurance_data)\n",
    "neigh.kneighbors(dict_to_vect(customer))"
   ]
  },
  {
   "cell_type": "markdown",
   "metadata": {},
   "source": [
    "We see that scikit-learn.NearestNeighbors also gives the same result as I did, as it returns the first 8 indexes from our ordered dataset."
   ]
  },
  {
   "cell_type": "markdown",
   "metadata": {
    "pycharm": {
     "name": "#%% md\n"
    }
   },
   "source": [
    "**Does the data being not scaled affect the kNN algorithm? If so, how does that appear?**\n",
    "\n",
    "Since the data is not scaled, the salary has a lot more weight than all other features. A negligible variance of 1000 in salary has equal weight to having 1000 kids. Of course this makes no sense. We need to normalize the data in order to find similar customers."
   ]
  },
  {
   "cell_type": "markdown",
   "metadata": {
    "pycharm": {
     "name": "#%% md\n"
    }
   },
   "source": [
    "**How similar are the results using the Manhattan distance metric (regardless of the scaling)?**\n",
    "Very similar in the unscaled dataset, slightly different in the scaled dataset."
   ]
  },
  {
   "cell_type": "markdown",
   "metadata": {
    "pycharm": {
     "name": "#%% md\n"
    }
   },
   "source": [
    "# Task 2. Is Customer Likely to Receive Insurance Benefit?"
   ]
  },
  {
   "cell_type": "markdown",
   "metadata": {
    "pycharm": {
     "name": "#%% md\n"
    }
   },
   "source": [
    "With `insurance_benefits` being more than zero as the target, evaluate whether the kNN classification approach can do better than a dummy model.\n",
    "\n",
    "Instructions:\n",
    "- Build a KNN-based classifier and measure its quality with the F1 metric for k=1..10 for both the original data and the scaled one. That'd be interesting to see how k may influence the evaluation metric, and whether scaling the data makes any difference. You can use a ready implementation of the kNN classification algorithm from scikit-learn (check [the link](https://scikit-learn.org/stable/modules/generated/sklearn.neighbors.KNeighborsClassifier.html)) or use your own.\n",
    "- Build the dummy model which is just random for this case. It should return \"1\" with some probability. Let's test the model with four probability values: 0, the probability of paying any insurance benefit, 0.5, 1.\n",
    "\n",
    "The probability of paying any insurance benefit can be defined as\n",
    "\n",
    "$$\n",
    "P\\{\\text{insurance benefit received}\\}=\\frac{\\text{number of clients received any insurance benefit}}{\\text{total number of clients}}.\n",
    "$$\n",
    "\n",
    "Split the whole data in the 70:30 proportion for the training/testing parts."
   ]
  },
  {
   "cell_type": "markdown",
   "metadata": {},
   "source": [
    "First with the original data"
   ]
  },
  {
   "cell_type": "code",
   "execution_count": 56,
   "metadata": {
    "pycharm": {
     "name": "#%%\n"
    }
   },
   "outputs": [],
   "source": [
    "insurance_data.reset_index(drop=True,inplace=True)\n",
    "rand_gen=np.random.default_rng()\n",
    "target = (insurance_data['insurance_benefits'] > 0) * 1\n",
    "features = insurance_data.drop('insurance_benefits', axis=1)"
   ]
  },
  {
   "cell_type": "code",
   "execution_count": 57,
   "metadata": {
    "pycharm": {
     "name": "#%%\n"
    }
   },
   "outputs": [],
   "source": [
    "target_train, target_test, features_train, features_test = train_test_split(target,features,test_size=0.3,random_state=12345)"
   ]
  },
  {
   "cell_type": "code",
   "execution_count": 58,
   "metadata": {
    "pycharm": {
     "name": "#%%\n"
    }
   },
   "outputs": [],
   "source": [
    "original_scores=[]\n",
    "for i in range(1,11):\n",
    "    classifier = KNeighborsClassifier(n_neighbors = i)\n",
    "    classifier.fit(features_train, target_train)\n",
    "    y_pred=classifier.predict(features_test)\n",
    "    original_scores.append(f1_score(target_test,y_pred))"
   ]
  },
  {
   "cell_type": "markdown",
   "metadata": {},
   "source": [
    "Now with scaled data"
   ]
  },
  {
   "cell_type": "code",
   "execution_count": 59,
   "metadata": {
    "pycharm": {
     "name": "#%% md\n"
    }
   },
   "outputs": [],
   "source": [
    "features_train_scaled = insurance_scaler.fit_transform(features_train)\n",
    "features_test_scaled = insurance_scaler.transform(features_test)"
   ]
  },
  {
   "cell_type": "code",
   "execution_count": 60,
   "metadata": {
    "pycharm": {
     "name": "#%%\n"
    }
   },
   "outputs": [],
   "source": [
    "scaled_scores=[]\n",
    "for i in range(1,11):\n",
    "    classifier = KNeighborsClassifier(n_neighbors = i)\n",
    "    classifier.fit(features_train_scaled, target_train)\n",
    "    y_pred=classifier.predict(features_test_scaled)\n",
    "    scaled_scores.append(f1_score(target_test,y_pred))"
   ]
  },
  {
   "cell_type": "markdown",
   "metadata": {
    "pycharm": {
     "name": "#%% md\n"
    }
   },
   "source": [
    "Now we implement the dummy models"
   ]
  },
  {
   "cell_type": "code",
   "execution_count": 61,
   "metadata": {
    "pycharm": {
     "name": "#%%\n"
    }
   },
   "outputs": [],
   "source": [
    "zero_scores=[f1_score(target_test,[0]*len(target_test))]*10\n",
    "one_scores=[f1_score(target_test,[1]*len(target_test))]*10\n",
    "half_scores= [f1_score(target_test, np.random.randint(2, size=len(target_test)))] * 10\n",
    "\n",
    "#we generate a number of random indexes which will be considered as part of the target class\n",
    "random_indexes=rand_gen.integers(0,len(target_test),size=sum(target_test))\n",
    "prob_test=[0]*len(target_test)\n",
    "for i in random_indexes:\n",
    "    prob_test[i]=1\n",
    "prob_scores= [f1_score(target_test, prob_test)] * 10"
   ]
  },
  {
   "cell_type": "code",
   "execution_count": 62,
   "metadata": {
    "pycharm": {
     "name": "#%% md\n"
    }
   },
   "outputs": [
    {
     "data": {
      "text/html": [
       "<div>\n",
       "<style scoped>\n",
       "    .dataframe tbody tr th:only-of-type {\n",
       "        vertical-align: middle;\n",
       "    }\n",
       "\n",
       "    .dataframe tbody tr th {\n",
       "        vertical-align: top;\n",
       "    }\n",
       "\n",
       "    .dataframe thead th {\n",
       "        text-align: right;\n",
       "    }\n",
       "</style>\n",
       "<table border=\"1\" class=\"dataframe\">\n",
       "  <thead>\n",
       "    <tr style=\"text-align: right;\">\n",
       "      <th></th>\n",
       "      <th>original_scores</th>\n",
       "      <th>scaled_scores</th>\n",
       "      <th>zero_scores</th>\n",
       "      <th>one_scores</th>\n",
       "      <th>half_scores</th>\n",
       "      <th>prob_scores</th>\n",
       "    </tr>\n",
       "  </thead>\n",
       "  <tbody>\n",
       "    <tr>\n",
       "      <th>0</th>\n",
       "      <td>0.612100</td>\n",
       "      <td>0.937500</td>\n",
       "      <td>0.0</td>\n",
       "      <td>0.197115</td>\n",
       "      <td>0.173536</td>\n",
       "      <td>0.086687</td>\n",
       "    </tr>\n",
       "    <tr>\n",
       "      <th>1</th>\n",
       "      <td>0.336538</td>\n",
       "      <td>0.903010</td>\n",
       "      <td>0.0</td>\n",
       "      <td>0.197115</td>\n",
       "      <td>0.173536</td>\n",
       "      <td>0.086687</td>\n",
       "    </tr>\n",
       "    <tr>\n",
       "      <th>2</th>\n",
       "      <td>0.358744</td>\n",
       "      <td>0.936709</td>\n",
       "      <td>0.0</td>\n",
       "      <td>0.197115</td>\n",
       "      <td>0.173536</td>\n",
       "      <td>0.086687</td>\n",
       "    </tr>\n",
       "    <tr>\n",
       "      <th>3</th>\n",
       "      <td>0.234694</td>\n",
       "      <td>0.878378</td>\n",
       "      <td>0.0</td>\n",
       "      <td>0.197115</td>\n",
       "      <td>0.173536</td>\n",
       "      <td>0.086687</td>\n",
       "    </tr>\n",
       "    <tr>\n",
       "      <th>4</th>\n",
       "      <td>0.250000</td>\n",
       "      <td>0.912052</td>\n",
       "      <td>0.0</td>\n",
       "      <td>0.197115</td>\n",
       "      <td>0.173536</td>\n",
       "      <td>0.086687</td>\n",
       "    </tr>\n",
       "    <tr>\n",
       "      <th>5</th>\n",
       "      <td>0.080925</td>\n",
       "      <td>0.865979</td>\n",
       "      <td>0.0</td>\n",
       "      <td>0.197115</td>\n",
       "      <td>0.173536</td>\n",
       "      <td>0.086687</td>\n",
       "    </tr>\n",
       "    <tr>\n",
       "      <th>6</th>\n",
       "      <td>0.102857</td>\n",
       "      <td>0.900000</td>\n",
       "      <td>0.0</td>\n",
       "      <td>0.197115</td>\n",
       "      <td>0.173536</td>\n",
       "      <td>0.086687</td>\n",
       "    </tr>\n",
       "    <tr>\n",
       "      <th>7</th>\n",
       "      <td>0.047619</td>\n",
       "      <td>0.872852</td>\n",
       "      <td>0.0</td>\n",
       "      <td>0.197115</td>\n",
       "      <td>0.173536</td>\n",
       "      <td>0.086687</td>\n",
       "    </tr>\n",
       "    <tr>\n",
       "      <th>8</th>\n",
       "      <td>0.070175</td>\n",
       "      <td>0.896321</td>\n",
       "      <td>0.0</td>\n",
       "      <td>0.197115</td>\n",
       "      <td>0.173536</td>\n",
       "      <td>0.086687</td>\n",
       "    </tr>\n",
       "    <tr>\n",
       "      <th>9</th>\n",
       "      <td>0.024096</td>\n",
       "      <td>0.876712</td>\n",
       "      <td>0.0</td>\n",
       "      <td>0.197115</td>\n",
       "      <td>0.173536</td>\n",
       "      <td>0.086687</td>\n",
       "    </tr>\n",
       "  </tbody>\n",
       "</table>\n",
       "</div>"
      ],
      "text/plain": [
       "   original_scores  scaled_scores  zero_scores  one_scores  half_scores  \\\n",
       "0         0.612100       0.937500          0.0    0.197115     0.173536   \n",
       "1         0.336538       0.903010          0.0    0.197115     0.173536   \n",
       "2         0.358744       0.936709          0.0    0.197115     0.173536   \n",
       "3         0.234694       0.878378          0.0    0.197115     0.173536   \n",
       "4         0.250000       0.912052          0.0    0.197115     0.173536   \n",
       "5         0.080925       0.865979          0.0    0.197115     0.173536   \n",
       "6         0.102857       0.900000          0.0    0.197115     0.173536   \n",
       "7         0.047619       0.872852          0.0    0.197115     0.173536   \n",
       "8         0.070175       0.896321          0.0    0.197115     0.173536   \n",
       "9         0.024096       0.876712          0.0    0.197115     0.173536   \n",
       "\n",
       "   prob_scores  \n",
       "0     0.086687  \n",
       "1     0.086687  \n",
       "2     0.086687  \n",
       "3     0.086687  \n",
       "4     0.086687  \n",
       "5     0.086687  \n",
       "6     0.086687  \n",
       "7     0.086687  \n",
       "8     0.086687  \n",
       "9     0.086687  "
      ]
     },
     "execution_count": 62,
     "metadata": {},
     "output_type": "execute_result"
    }
   ],
   "source": [
    "knn_results=pd.DataFrame(data=[original_scores, scaled_scores, zero_scores, one_scores, half_scores, prob_scores],index=['original_scores', 'scaled_scores', 'zero_scores', 'one_scores', 'half_scores', 'prob_scores'])\n",
    "knn_results.T"
   ]
  },
  {
   "cell_type": "markdown",
   "metadata": {
    "pycharm": {
     "name": "#%% md\n"
    }
   },
   "source": [
    "Let's see graphically how the models score"
   ]
  },
  {
   "cell_type": "code",
   "execution_count": 63,
   "metadata": {
    "pycharm": {
     "name": "#%%\n"
    }
   },
   "outputs": [
    {
     "data": {
      "image/png": "[encoded data removed]",
      "text/plain": [
       "<Figure size 432x288 with 1 Axes>"
      ]
     },
     "metadata": {},
     "output_type": "display_data"
    }
   ],
   "source": [
    "sns.set_style('darkgrid')\n",
    "sns.set_palette('Set2')\n",
    "sns.lineplot(data=knn_results.T)\n",
    "sns.set(rc={\"figure.figsize\":(16, 8)}) #width=8, height=4\n",
    "plt.title('F1 Scores for Different Models According to Number of Neighbors',fontdict = {'fontsize' : 16})\n",
    "plt.ylabel('F1 score')\n",
    "plt.xlabel('Number of neighbors')\n",
    "plt.xticks([i for i in range(len(knn_results.T))],[i for i in range(1,len(knn_results.T)+1)])\n",
    "plt.show()"
   ]
  },
  {
   "cell_type": "markdown",
   "metadata": {
    "pycharm": {
     "name": "#%%\n"
    }
   },
   "source": [
    "We see that the scaled model mantains a pretty high score, even though it has a descending trend. The model on the original data decreases in quality very fast. The dummy models which don't take into account the number of neighbors have a constant low score."
   ]
  },
  {
   "cell_type": "markdown",
   "metadata": {
    "pycharm": {
     "name": "#%% md\n"
    }
   },
   "source": [
    "### Conclusion\n",
    "Our model has a much better score than a random model."
   ]
  },
  {
   "cell_type": "markdown",
   "metadata": {
    "pycharm": {
     "name": "#%% md\n"
    }
   },
   "source": [
    "## Predict the number of insurance benefits a new customer is likely to receive using a Linear Regression model."
   ]
  },
  {
   "cell_type": "markdown",
   "metadata": {
    "pycharm": {
     "name": "#%% md\n"
    }
   },
   "source": [
    "# Task 3. Regression (with Linear Regression)"
   ]
  },
  {
   "cell_type": "markdown",
   "metadata": {
    "pycharm": {
     "name": "#%% md\n"
    }
   },
   "source": [
    "With `insurance_benefits` as the target, evaluate what RMSE would be for a Linear Regression model."
   ]
  },
  {
   "cell_type": "markdown",
   "metadata": {
    "pycharm": {
     "name": "#%% md\n"
    }
   },
   "source": [
    "Build your own implementation of LR. For that, recall how the linear regression task's solution is formulated in terms of LA. Check RMSE for both the original data and the scaled one. Can you see any difference in RMSE between these two cases?\n",
    "\n",
    "Let's denote\n",
    "- $X$ — feature matrix, each row is a case, each column is a feature, the first column consists of unities\n",
    "- $y$ — target (a vector)\n",
    "- $\\hat{y}$ — estimated tagret (a vector)\n",
    "- $w$ — weight vector\n",
    "\n",
    "The task of linear regression in the language of matrices can be formulated as\n",
    "\n",
    "$$\n",
    "y = Xw\n",
    "$$\n",
    "\n",
    "The training objective then is to find such $w$ that it would minimize the L2-distance (MSE) between $Xw$ and $y$:\n",
    "\n",
    "$$\n",
    "\\min_w d_2(Xw, y) \\quad \\text{or} \\quad \\min_w \\text{MSE}(Xw, y)\n",
    "$$\n",
    "\n",
    "It appears that there is analytical solution for the above:\n",
    "\n",
    "$$\n",
    "w = (X^T X)^{-1} X^T y\n",
    "$$\n",
    "\n",
    "The formula above can be used to find the weights $w$ and the latter can be used to calculate predicted values\n",
    "\n",
    "$$\n",
    "\\hat{y} = X_{val}w\n",
    "$$"
   ]
  },
  {
   "cell_type": "markdown",
   "metadata": {
    "pycharm": {
     "name": "#%% md\n"
    }
   },
   "source": [
    "Split the whole data in the 70:30 proportion for the training/validation parts. Use the RMSE metric for the model evaluation."
   ]
  },
  {
   "cell_type": "code",
   "execution_count": 64,
   "metadata": {
    "pycharm": {
     "name": "#%%\n"
    }
   },
   "outputs": [],
   "source": [
    "class MyLinearRegression:\n",
    "\n",
    "    def __init__(self):\n",
    "\n",
    "        self.weights = None\n",
    "\n",
    "    def fit(self, X, y):\n",
    "\n",
    "        # adding the unities\n",
    "        X2 = np.append(np.ones([len(X), 1]), X, axis=1)\n",
    "        self.weights = np.linalg.inv(X2.T.dot(X2)).dot(X2.T).dot(y)\n",
    "\n",
    "    def predict(self, X):\n",
    "\n",
    "        # adding the unities\n",
    "        X2 = X.dot(self.weights[1:])\n",
    "        y_pred = X2+self.weights[0]\n",
    "\n",
    "        return y_pred"
   ]
  },
  {
   "cell_type": "code",
   "execution_count": 65,
   "metadata": {
    "pycharm": {
     "name": "#%%\n"
    }
   },
   "outputs": [],
   "source": [
    "def eval_regressor(y_true, y_pred):\n",
    "\n",
    "    rmse = math.sqrt(sklearn.metrics.mean_squared_error(y_true, y_pred))\n",
    "    print(f'RMSE: {rmse:.5f}')\n",
    "\n",
    "    r2_score = math.sqrt(sklearn.metrics.r2_score(y_true, y_pred))\n",
    "    print(f'R2: {r2_score:.5f}')"
   ]
  },
  {
   "cell_type": "code",
   "execution_count": 66,
   "metadata": {
    "pycharm": {
     "name": "#%%\n"
    }
   },
   "outputs": [
    {
     "name": "stdout",
     "output_type": "stream",
     "text": [
      "[-1.86612141e-01  4.59762464e-01  1.08918304e-03 -2.45950091e-04\n",
      " -1.80755844e-02]\n",
      "RMSE: 0.07431\n",
      "R2: 0.63871\n"
     ]
    }
   ],
   "source": [
    "X = insurance_data_scaled[['age', 'gender', 'income', 'family_members']].to_numpy()\n",
    "y = insurance_data_scaled['insurance_benefits'].to_numpy()\n",
    "\n",
    "X_train, X_test, y_train, y_test = train_test_split(X, y, test_size=0.3, random_state=12345)\n",
    "\n",
    "lr = MyLinearRegression()\n",
    "\n",
    "lr.fit(X_train, y_train)\n",
    "print(lr.weights)\n",
    "\n",
    "y_test_pred = lr.predict(X_test)\n",
    "eval_regressor(y_test, y_test_pred)"
   ]
  },
  {
   "cell_type": "markdown",
   "metadata": {
    "pycharm": {
     "name": "#%% md\n"
    }
   },
   "source": [
    "Let's compare the model we made with the sklearn Linear Regression implementation"
   ]
  },
  {
   "cell_type": "markdown",
   "metadata": {},
   "source": [
    "Using original data"
   ]
  },
  {
   "cell_type": "code",
   "execution_count": 69,
   "metadata": {
    "pycharm": {
     "name": "#%%\n"
    }
   },
   "outputs": [],
   "source": [
    "target = insurance_data['insurance_benefits']\n",
    "features = insurance_data.drop('insurance_benefits', axis=1)"
   ]
  },
  {
   "cell_type": "code",
   "execution_count": 70,
   "metadata": {
    "pycharm": {
     "name": "#%%\n"
    }
   },
   "outputs": [],
   "source": [
    "target_train, target_test, features_train, features_test = train_test_split(target,features,test_size=0.3,random_state=12345)"
   ]
  },
  {
   "cell_type": "code",
   "execution_count": 71,
   "metadata": {
    "pycharm": {
     "name": "#%%\n"
    }
   },
   "outputs": [],
   "source": [
    "model=LinearRegression()\n",
    "model.fit(features_train,target_train)\n",
    "predicted_values=model.predict(features_test)"
   ]
  },
  {
   "cell_type": "markdown",
   "metadata": {
    "pycharm": {
     "name": "#%% md\n"
    }
   },
   "source": [
    "Using scaled data"
   ]
  },
  {
   "cell_type": "code",
   "execution_count": 72,
   "metadata": {
    "pycharm": {
     "name": "#%% md\n"
    }
   },
   "outputs": [],
   "source": [
    "features_train_scaled=insurance_scaler.fit_transform(features_train)\n",
    "features_test_scaled=insurance_scaler.transform(features_test)"
   ]
  },
  {
   "cell_type": "markdown",
   "metadata": {},
   "source": [
    "We scale the data only after splitting it so we don't get leakage"
   ]
  },
  {
   "cell_type": "code",
   "execution_count": 73,
   "metadata": {},
   "outputs": [],
   "source": [
    "model.fit(features_train_scaled,target_train)\n",
    "predicted_values_scaled=model.predict(features_test_scaled)"
   ]
  },
  {
   "cell_type": "markdown",
   "metadata": {
    "pycharm": {
     "name": "#%% md\n"
    }
   },
   "source": [
    "Checking Mean Squared Error of our model"
   ]
  },
  {
   "cell_type": "code",
   "execution_count": 74,
   "metadata": {
    "pycharm": {
     "name": "#%%\n"
    }
   },
   "outputs": [
    {
     "name": "stdout",
     "output_type": "stream",
     "text": [
      "========== Unscaled Data ==============\n",
      "The Root Mean Squared Error of our model is 0.37154\n",
      "The R2 Score of our model is 0.63871\n",
      "========== Scaled Data ==============\n",
      "The Root Mean Squared Error of our model is 0.37154\n",
      "The R2 Score of our model is 0.63871\n"
     ]
    }
   ],
   "source": [
    "print(f'========== Unscaled Data ==============')\n",
    "print(f'The Root Mean Squared Error of our model is {math.sqrt(mean_squared_error(target_test,predicted_values)):.5f}')\n",
    "print(f'The R2 Score of our model is {math.sqrt(sklearn.metrics.r2_score(target_test,predicted_values)):.5f}')\n",
    "print(f'========== Scaled Data ==============')\n",
    "print(f'The Root Mean Squared Error of our model is {math.sqrt(mean_squared_error(target_test,predicted_values_scaled)):.5f}')\n",
    "print(f'The R2 Score of our model is {math.sqrt(sklearn.metrics.r2_score(target_test,predicted_values_scaled)):.5f}')"
   ]
  },
  {
   "cell_type": "markdown",
   "metadata": {
    "pycharm": {
     "name": "#%% md\n"
    }
   },
   "source": [
    "Incredible. We get the exact same score 😁"
   ]
  },
  {
   "cell_type": "markdown",
   "metadata": {
    "pycharm": {
     "name": "#%% md\n"
    }
   },
   "source": [
    "## Task 4. Obfuscating Data"
   ]
  },
  {
   "cell_type": "markdown",
   "metadata": {
    "pycharm": {
     "name": "#%% md\n"
    }
   },
   "source": [
    "We can protect the client's personal information by obfuscating the data. An easy way to do this is by multiplying the data on our end with a random matrix and sending to the destination the inverse of our random matrix with which to obtain the original data back."
   ]
  },
  {
   "cell_type": "markdown",
   "metadata": {
    "pycharm": {
     "name": "#%% md\n"
    }
   },
   "source": [
    "It best to obfuscate data by multiplying the numerical features (remember, they can be seen as the matrix $X$) by an invertible matrix $P$.\n",
    "\n",
    "$$\n",
    "X' = X \\times P\n",
    "$$\n",
    "\n",
    "Try to do that and check how the features' values will look like after the transformation. By the way, the intertible property is important here so make sure that $P$ is indeed invertible.\n",
    "\n",
    "You may want to review the 'Matrices and Matrix Operations -> Matrix Multiplication' lesson to recall the rule of matrix multiplication and its implementation with NumPy."
   ]
  },
  {
   "cell_type": "code",
   "execution_count": 75,
   "metadata": {
    "pycharm": {
     "name": "#%%\n"
    }
   },
   "outputs": [],
   "source": [
    "personal_info_column_list = ['gender', 'age', 'income', 'family_members']\n",
    "insurance_data_personal_info = insurance_data[personal_info_column_list]"
   ]
  },
  {
   "cell_type": "code",
   "execution_count": 76,
   "metadata": {
    "pycharm": {
     "name": "#%%\n"
    }
   },
   "outputs": [],
   "source": [
    "X = insurance_data_personal_info.to_numpy()"
   ]
  },
  {
   "cell_type": "markdown",
   "metadata": {
    "pycharm": {
     "name": "#%% md\n"
    }
   },
   "source": [
    "Checking the matrix $P$ is invertible"
   ]
  },
  {
   "cell_type": "markdown",
   "metadata": {
    "pycharm": {
     "name": "#%% md\n"
    }
   },
   "source": [
    "A matrix is invertible if the determinant doesn't equal 0"
   ]
  },
  {
   "cell_type": "code",
   "execution_count": 77,
   "metadata": {
    "pycharm": {
     "name": "#%%\n"
    }
   },
   "outputs": [],
   "source": [
    "# Function to get cofactor of # mat[p][q] in temp[][]. n is # current dimension of mat[][]\n",
    "def getCofactor(mat, temp, p, q, n):\n",
    "    i = 0\n",
    "    j = 0\n",
    "    # Looping for each element of the matrix\n",
    "    for row in range(n):\n",
    "        for col in range(n):\n",
    "            # Copying into temporary matrix only those element which are not in given row and column\n",
    "            if (row != p and col != q) :\n",
    "                temp[i][j] = mat[row][col]\n",
    "                j += 1\n",
    "                # Row is filled, so increase row index and reset col index\n",
    "                if (j == n - 1):\n",
    "                    j = 0\n",
    "                    i += 1\n",
    "\n",
    "# Recursive function for finding determinant of matrix. n is current dimension of mat[][].\n",
    "def determinant_matrix(mat, n):\n",
    "    D = 0 # Initialize result\n",
    "    # Base case : if matrix contains single element\n",
    "    if (n == 1):\n",
    "        return mat[0][0]\n",
    "    # To store cofactors\n",
    "    temp = [[0 for x in range(n)]\n",
    "            for y in range(n)]\n",
    "    sign = 1 # To store sign multiplier\n",
    "    # Iterate for each element of first row\n",
    "    for f in range(n):\n",
    "        # Getting Cofactor of mat[0][f]\n",
    "        getCofactor(mat, temp, 0, f, n)\n",
    "        D += (sign * mat[0][f] *\n",
    "              determinant_matrix(temp, n - 1))\n",
    "        # terms are to be added with alternate sign\n",
    "        sign = -sign\n",
    "    return D\n"
   ]
  },
  {
   "cell_type": "markdown",
   "metadata": {
    "pycharm": {
     "name": "#%% md\n"
    }
   },
   "source": [
    "Generating a random matrix $P$. In case it's not invertible, we do it again."
   ]
  },
  {
   "cell_type": "code",
   "execution_count": 78,
   "metadata": {
    "pycharm": {
     "name": "#%%\n"
    }
   },
   "outputs": [],
   "source": [
    "generate_matrix=True\n",
    "while (generate_matrix):\n",
    "    rng = np.random.default_rng(seed=42)\n",
    "    P = rng.random(size=(X.shape[1], X.shape[1]))\n",
    "    #if the determinant of the matrix is close to 0 (in pure math it must be 0 but here we might have rounding errors)\n",
    "    generate_matrix=np.isclose(determinant_matrix(P,P.shape[0]),0)\n"
   ]
  },
  {
   "cell_type": "markdown",
   "metadata": {
    "pycharm": {
     "name": "#%% md\n"
    }
   },
   "source": [
    "Can you guess the customers' ages or income after the transformation?"
   ]
  },
  {
   "cell_type": "code",
   "execution_count": 79,
   "metadata": {
    "pycharm": {
     "name": "#%%\n"
    }
   },
   "outputs": [
    {
     "data": {
      "text/html": [
       "<div>\n",
       "<style scoped>\n",
       "    .dataframe tbody tr th:only-of-type {\n",
       "        vertical-align: middle;\n",
       "    }\n",
       "\n",
       "    .dataframe tbody tr th {\n",
       "        vertical-align: top;\n",
       "    }\n",
       "\n",
       "    .dataframe thead th {\n",
       "        text-align: right;\n",
       "    }\n",
       "</style>\n",
       "<table border=\"1\" class=\"dataframe\">\n",
       "  <thead>\n",
       "    <tr style=\"text-align: right;\">\n",
       "      <th></th>\n",
       "      <th>0</th>\n",
       "      <th>1</th>\n",
       "      <th>2</th>\n",
       "      <th>3</th>\n",
       "      <th>4</th>\n",
       "      <th>5</th>\n",
       "      <th>6</th>\n",
       "      <th>7</th>\n",
       "      <th>8</th>\n",
       "      <th>9</th>\n",
       "      <th>...</th>\n",
       "      <th>4990</th>\n",
       "      <th>4991</th>\n",
       "      <th>4992</th>\n",
       "      <th>4993</th>\n",
       "      <th>4994</th>\n",
       "      <th>4995</th>\n",
       "      <th>4996</th>\n",
       "      <th>4997</th>\n",
       "      <th>4998</th>\n",
       "      <th>4999</th>\n",
       "    </tr>\n",
       "  </thead>\n",
       "  <tbody>\n",
       "    <tr>\n",
       "      <th>0</th>\n",
       "      <td>3846.140123</td>\n",
       "      <td>3847.369590</td>\n",
       "      <td>3848.657320</td>\n",
       "      <td>3847.275412</td>\n",
       "      <td>3846.501456</td>\n",
       "      <td>3845.857591</td>\n",
       "      <td>3845.763414</td>\n",
       "      <td>3847.695009</td>\n",
       "      <td>3847.087058</td>\n",
       "      <td>3845.669237</td>\n",
       "      <td>...</td>\n",
       "      <td>8870.192786</td>\n",
       "      <td>8895.967953</td>\n",
       "      <td>8972.652939</td>\n",
       "      <td>9037.493927</td>\n",
       "      <td>9048.421743</td>\n",
       "      <td>9150.535940</td>\n",
       "      <td>9177.425860</td>\n",
       "      <td>9586.216469</td>\n",
       "      <td>9637.441384</td>\n",
       "      <td>10126.899939</td>\n",
       "    </tr>\n",
       "    <tr>\n",
       "      <th>1</th>\n",
       "      <td>13539.871185</td>\n",
       "      <td>13539.181580</td>\n",
       "      <td>13540.827104</td>\n",
       "      <td>13538.205958</td>\n",
       "      <td>13537.767080</td>\n",
       "      <td>13536.944318</td>\n",
       "      <td>13535.968696</td>\n",
       "      <td>13538.436980</td>\n",
       "      <td>13536.254713</td>\n",
       "      <td>13534.993073</td>\n",
       "      <td>...</td>\n",
       "      <td>31208.121920</td>\n",
       "      <td>31301.509857</td>\n",
       "      <td>31556.417480</td>\n",
       "      <td>31801.428618</td>\n",
       "      <td>31826.954764</td>\n",
       "      <td>32183.361025</td>\n",
       "      <td>32282.449837</td>\n",
       "      <td>33715.648837</td>\n",
       "      <td>33903.169312</td>\n",
       "      <td>35622.574012</td>\n",
       "    </tr>\n",
       "    <tr>\n",
       "      <th>2</th>\n",
       "      <td>11146.013778</td>\n",
       "      <td>11145.793511</td>\n",
       "      <td>11146.680339</td>\n",
       "      <td>11145.032371</td>\n",
       "      <td>11144.173773</td>\n",
       "      <td>11143.730359</td>\n",
       "      <td>11142.969220</td>\n",
       "      <td>11144.299462</td>\n",
       "      <td>11143.510092</td>\n",
       "      <td>11142.208080</td>\n",
       "      <td>...</td>\n",
       "      <td>25692.049742</td>\n",
       "      <td>25768.077583</td>\n",
       "      <td>25978.919034</td>\n",
       "      <td>26180.176291</td>\n",
       "      <td>26202.033300</td>\n",
       "      <td>26495.627160</td>\n",
       "      <td>26575.904113</td>\n",
       "      <td>27757.101582</td>\n",
       "      <td>27910.651312</td>\n",
       "      <td>29325.996068</td>\n",
       "    </tr>\n",
       "    <tr>\n",
       "      <th>3</th>\n",
       "      <td>27825.745530</td>\n",
       "      <td>27825.098008</td>\n",
       "      <td>27825.552486</td>\n",
       "      <td>27824.311944</td>\n",
       "      <td>27823.614576</td>\n",
       "      <td>27823.387337</td>\n",
       "      <td>27822.601273</td>\n",
       "      <td>27823.282989</td>\n",
       "      <td>27822.739816</td>\n",
       "      <td>27821.815209</td>\n",
       "      <td>...</td>\n",
       "      <td>64165.849297</td>\n",
       "      <td>64353.090359</td>\n",
       "      <td>64896.710865</td>\n",
       "      <td>65376.932297</td>\n",
       "      <td>65453.887510</td>\n",
       "      <td>66192.155244</td>\n",
       "      <td>66383.553865</td>\n",
       "      <td>69343.942270</td>\n",
       "      <td>69720.239412</td>\n",
       "      <td>73247.814601</td>\n",
       "    </tr>\n",
       "  </tbody>\n",
       "</table>\n",
       "<p>4 rows × 5000 columns</p>\n",
       "</div>"
      ],
      "text/plain": [
       "           0             1             2             3             4     \\\n",
       "0   3846.140123   3847.369590   3848.657320   3847.275412   3846.501456   \n",
       "1  13539.871185  13539.181580  13540.827104  13538.205958  13537.767080   \n",
       "2  11146.013778  11145.793511  11146.680339  11145.032371  11144.173773   \n",
       "3  27825.745530  27825.098008  27825.552486  27824.311944  27823.614576   \n",
       "\n",
       "           5             6             7             8             9     ...  \\\n",
       "0   3845.857591   3845.763414   3847.695009   3847.087058   3845.669237  ...   \n",
       "1  13536.944318  13535.968696  13538.436980  13536.254713  13534.993073  ...   \n",
       "2  11143.730359  11142.969220  11144.299462  11143.510092  11142.208080  ...   \n",
       "3  27823.387337  27822.601273  27823.282989  27822.739816  27821.815209  ...   \n",
       "\n",
       "           4990          4991          4992          4993          4994  \\\n",
       "0   8870.192786   8895.967953   8972.652939   9037.493927   9048.421743   \n",
       "1  31208.121920  31301.509857  31556.417480  31801.428618  31826.954764   \n",
       "2  25692.049742  25768.077583  25978.919034  26180.176291  26202.033300   \n",
       "3  64165.849297  64353.090359  64896.710865  65376.932297  65453.887510   \n",
       "\n",
       "           4995          4996          4997          4998          4999  \n",
       "0   9150.535940   9177.425860   9586.216469   9637.441384  10126.899939  \n",
       "1  32183.361025  32282.449837  33715.648837  33903.169312  35622.574012  \n",
       "2  26495.627160  26575.904113  27757.101582  27910.651312  29325.996068  \n",
       "3  66192.155244  66383.553865  69343.942270  69720.239412  73247.814601  \n",
       "\n",
       "[4 rows x 5000 columns]"
      ]
     },
     "metadata": {},
     "output_type": "display_data"
    }
   ],
   "source": [
    "personal_info_transformed=insurance_data_personal_info.dot(P)\n",
    "display(personal_info_transformed.T)"
   ]
  },
  {
   "cell_type": "markdown",
   "metadata": {
    "pycharm": {
     "name": "#%% md\n"
    }
   },
   "source": [
    "Can you recover the original data from $X'$ if you know $P$? Try to check that with calculations by moving $P$ from the right side of the formula above to the left one. The rules of matrix multiplcation are really helpful here."
   ]
  },
  {
   "cell_type": "markdown",
   "metadata": {
    "pycharm": {
     "name": "#%% md\n"
    }
   },
   "source": [
    "$$\n",
    "X' = X \\times P $$\n",
    "$$X'\\times P^{-1} = X \\times P \\times P^{-1} $$\n",
    "$$X'\\times P^{-1} = X \\times I = X\n",
    "$$\n",
    "So by multiplying the transformed data with the inverse of the P we obtain the original matrix with original data."
   ]
  },
  {
   "cell_type": "markdown",
   "metadata": {
    "pycharm": {
     "name": "#%% md\n"
    }
   },
   "source": [
    "Print all three cases for a few customers\n",
    "- The original data\n",
    "- The transformed one\n",
    "- The reversed (recovered) one"
   ]
  },
  {
   "cell_type": "code",
   "execution_count": 80,
   "metadata": {
    "pycharm": {
     "name": "#%%\n"
    }
   },
   "outputs": [],
   "source": [
    "P_inversed=np.linalg.inv(P)\n",
    "resulting_data=np.dot(insurance_data[personal_info_column_list],P)\n",
    "recovered_data=np.dot(resulting_data,P_inversed)"
   ]
  },
  {
   "cell_type": "code",
   "execution_count": 81,
   "metadata": {
    "pycharm": {
     "name": "#%%\n"
    }
   },
   "outputs": [
    {
     "name": "stdout",
     "output_type": "stream",
     "text": [
      "Index 3248:\n"
     ]
    },
    {
     "data": {
      "text/html": [
       "<div>\n",
       "<style scoped>\n",
       "    .dataframe tbody tr th:only-of-type {\n",
       "        vertical-align: middle;\n",
       "    }\n",
       "\n",
       "    .dataframe tbody tr th {\n",
       "        vertical-align: top;\n",
       "    }\n",
       "\n",
       "    .dataframe thead th {\n",
       "        text-align: right;\n",
       "    }\n",
       "</style>\n",
       "<table border=\"1\" class=\"dataframe\">\n",
       "  <thead>\n",
       "    <tr style=\"text-align: right;\">\n",
       "      <th></th>\n",
       "      <th>gender</th>\n",
       "      <th>age</th>\n",
       "      <th>income</th>\n",
       "      <th>family_members</th>\n",
       "    </tr>\n",
       "  </thead>\n",
       "  <tbody>\n",
       "    <tr>\n",
       "      <th>Original</th>\n",
       "      <td>0</td>\n",
       "      <td>43</td>\n",
       "      <td>43900</td>\n",
       "      <td>0</td>\n",
       "    </tr>\n",
       "    <tr>\n",
       "      <th>Obfuscated</th>\n",
       "      <td>5628.2381</td>\n",
       "      <td>19813.894435</td>\n",
       "      <td>16310.762271</td>\n",
       "      <td>40718.783776</td>\n",
       "    </tr>\n",
       "    <tr>\n",
       "      <th>Recovered</th>\n",
       "      <td>-0.0</td>\n",
       "      <td>43.0</td>\n",
       "      <td>43900.0</td>\n",
       "      <td>0.0</td>\n",
       "    </tr>\n",
       "  </tbody>\n",
       "</table>\n",
       "</div>"
      ],
      "text/plain": [
       "               gender           age        income family_members\n",
       "Original            0            43         43900              0\n",
       "Obfuscated  5628.2381  19813.894435  16310.762271   40718.783776\n",
       "Recovered        -0.0          43.0       43900.0            0.0"
      ]
     },
     "metadata": {},
     "output_type": "display_data"
    },
    {
     "name": "stdout",
     "output_type": "stream",
     "text": [
      "Index 4907:\n"
     ]
    },
    {
     "data": {
      "text/html": [
       "<div>\n",
       "<style scoped>\n",
       "    .dataframe tbody tr th:only-of-type {\n",
       "        vertical-align: middle;\n",
       "    }\n",
       "\n",
       "    .dataframe tbody tr th {\n",
       "        vertical-align: top;\n",
       "    }\n",
       "\n",
       "    .dataframe thead th {\n",
       "        text-align: right;\n",
       "    }\n",
       "</style>\n",
       "<table border=\"1\" class=\"dataframe\">\n",
       "  <thead>\n",
       "    <tr style=\"text-align: right;\">\n",
       "      <th></th>\n",
       "      <th>gender</th>\n",
       "      <th>age</th>\n",
       "      <th>income</th>\n",
       "      <th>family_members</th>\n",
       "    </tr>\n",
       "  </thead>\n",
       "  <tbody>\n",
       "    <tr>\n",
       "      <th>Original</th>\n",
       "      <td>0</td>\n",
       "      <td>30</td>\n",
       "      <td>60400</td>\n",
       "      <td>1</td>\n",
       "    </tr>\n",
       "    <tr>\n",
       "      <th>Obfuscated</th>\n",
       "      <td>7741.532599</td>\n",
       "      <td>27233.402081</td>\n",
       "      <td>22419.478269</td>\n",
       "      <td>56000.414494</td>\n",
       "    </tr>\n",
       "    <tr>\n",
       "      <th>Recovered</th>\n",
       "      <td>0.0</td>\n",
       "      <td>30.0</td>\n",
       "      <td>60400.0</td>\n",
       "      <td>1.0</td>\n",
       "    </tr>\n",
       "  </tbody>\n",
       "</table>\n",
       "</div>"
      ],
      "text/plain": [
       "                 gender           age        income family_members\n",
       "Original              0            30         60400              1\n",
       "Obfuscated  7741.532599  27233.402081  22419.478269   56000.414494\n",
       "Recovered           0.0          30.0       60400.0            1.0"
      ]
     },
     "metadata": {},
     "output_type": "display_data"
    },
    {
     "name": "stdout",
     "output_type": "stream",
     "text": [
      "Index 1528:\n"
     ]
    },
    {
     "data": {
      "text/html": [
       "<div>\n",
       "<style scoped>\n",
       "    .dataframe tbody tr th:only-of-type {\n",
       "        vertical-align: middle;\n",
       "    }\n",
       "\n",
       "    .dataframe tbody tr th {\n",
       "        vertical-align: top;\n",
       "    }\n",
       "\n",
       "    .dataframe thead th {\n",
       "        text-align: right;\n",
       "    }\n",
       "</style>\n",
       "<table border=\"1\" class=\"dataframe\">\n",
       "  <thead>\n",
       "    <tr style=\"text-align: right;\">\n",
       "      <th></th>\n",
       "      <th>gender</th>\n",
       "      <th>age</th>\n",
       "      <th>income</th>\n",
       "      <th>family_members</th>\n",
       "    </tr>\n",
       "  </thead>\n",
       "  <tbody>\n",
       "    <tr>\n",
       "      <th>Original</th>\n",
       "      <td>1</td>\n",
       "      <td>42</td>\n",
       "      <td>23700</td>\n",
       "      <td>3</td>\n",
       "    </tr>\n",
       "    <tr>\n",
       "      <th>Obfuscated</th>\n",
       "      <td>3042.954094</td>\n",
       "      <td>10718.03003</td>\n",
       "      <td>8822.069882</td>\n",
       "      <td>21998.724021</td>\n",
       "    </tr>\n",
       "    <tr>\n",
       "      <th>Recovered</th>\n",
       "      <td>1.0</td>\n",
       "      <td>42.0</td>\n",
       "      <td>23700.0</td>\n",
       "      <td>3.0</td>\n",
       "    </tr>\n",
       "  </tbody>\n",
       "</table>\n",
       "</div>"
      ],
      "text/plain": [
       "                 gender          age       income family_members\n",
       "Original              1           42        23700              3\n",
       "Obfuscated  3042.954094  10718.03003  8822.069882   21998.724021\n",
       "Recovered           1.0         42.0      23700.0            3.0"
      ]
     },
     "metadata": {},
     "output_type": "display_data"
    },
    {
     "name": "stdout",
     "output_type": "stream",
     "text": [
      "Index 3044:\n"
     ]
    },
    {
     "data": {
      "text/html": [
       "<div>\n",
       "<style scoped>\n",
       "    .dataframe tbody tr th:only-of-type {\n",
       "        vertical-align: middle;\n",
       "    }\n",
       "\n",
       "    .dataframe tbody tr th {\n",
       "        vertical-align: top;\n",
       "    }\n",
       "\n",
       "    .dataframe thead th {\n",
       "        text-align: right;\n",
       "    }\n",
       "</style>\n",
       "<table border=\"1\" class=\"dataframe\">\n",
       "  <thead>\n",
       "    <tr style=\"text-align: right;\">\n",
       "      <th></th>\n",
       "      <th>gender</th>\n",
       "      <th>age</th>\n",
       "      <th>income</th>\n",
       "      <th>family_members</th>\n",
       "    </tr>\n",
       "  </thead>\n",
       "  <tbody>\n",
       "    <tr>\n",
       "      <th>Original</th>\n",
       "      <td>1</td>\n",
       "      <td>35</td>\n",
       "      <td>43000</td>\n",
       "      <td>0</td>\n",
       "    </tr>\n",
       "    <tr>\n",
       "      <th>Obfuscated</th>\n",
       "      <td>5512.956368</td>\n",
       "      <td>19401.18099</td>\n",
       "      <td>15971.813529</td>\n",
       "      <td>39879.104139</td>\n",
       "    </tr>\n",
       "    <tr>\n",
       "      <th>Recovered</th>\n",
       "      <td>1.0</td>\n",
       "      <td>35.0</td>\n",
       "      <td>43000.0</td>\n",
       "      <td>-0.0</td>\n",
       "    </tr>\n",
       "  </tbody>\n",
       "</table>\n",
       "</div>"
      ],
      "text/plain": [
       "                 gender          age        income family_members\n",
       "Original              1           35         43000              0\n",
       "Obfuscated  5512.956368  19401.18099  15971.813529   39879.104139\n",
       "Recovered           1.0         35.0       43000.0           -0.0"
      ]
     },
     "metadata": {},
     "output_type": "display_data"
    },
    {
     "name": "stdout",
     "output_type": "stream",
     "text": [
      "Index 1709:\n"
     ]
    },
    {
     "data": {
      "text/html": [
       "<div>\n",
       "<style scoped>\n",
       "    .dataframe tbody tr th:only-of-type {\n",
       "        vertical-align: middle;\n",
       "    }\n",
       "\n",
       "    .dataframe tbody tr th {\n",
       "        vertical-align: top;\n",
       "    }\n",
       "\n",
       "    .dataframe thead th {\n",
       "        text-align: right;\n",
       "    }\n",
       "</style>\n",
       "<table border=\"1\" class=\"dataframe\">\n",
       "  <thead>\n",
       "    <tr style=\"text-align: right;\">\n",
       "      <th></th>\n",
       "      <th>gender</th>\n",
       "      <th>age</th>\n",
       "      <th>income</th>\n",
       "      <th>family_members</th>\n",
       "    </tr>\n",
       "  </thead>\n",
       "  <tbody>\n",
       "    <tr>\n",
       "      <th>Original</th>\n",
       "      <td>1</td>\n",
       "      <td>22</td>\n",
       "      <td>37100</td>\n",
       "      <td>1</td>\n",
       "    </tr>\n",
       "    <tr>\n",
       "      <th>Obfuscated</th>\n",
       "      <td>4756.505495</td>\n",
       "      <td>16732.043628</td>\n",
       "      <td>13774.653785</td>\n",
       "      <td>34401.199108</td>\n",
       "    </tr>\n",
       "    <tr>\n",
       "      <th>Recovered</th>\n",
       "      <td>1.0</td>\n",
       "      <td>22.0</td>\n",
       "      <td>37100.0</td>\n",
       "      <td>1.0</td>\n",
       "    </tr>\n",
       "  </tbody>\n",
       "</table>\n",
       "</div>"
      ],
      "text/plain": [
       "                 gender           age        income family_members\n",
       "Original              1            22         37100              1\n",
       "Obfuscated  4756.505495  16732.043628  13774.653785   34401.199108\n",
       "Recovered           1.0          22.0       37100.0            1.0"
      ]
     },
     "metadata": {},
     "output_type": "display_data"
    }
   ],
   "source": [
    "#Display best scores from all regressors.\n",
    "comparison = pd.DataFrame(columns=personal_info_column_list,index=['Original','Obfuscated','Recovered'])\n",
    "\n",
    "for i in np.random.randint(0,len(insurance_data_personal_info),5):\n",
    "    print (f'Index {i}:')\n",
    "    comparison.loc['Original'] = insurance_data_personal_info.reset_index(drop=True).loc[i,].values\n",
    "    comparison.loc['Obfuscated'] =resulting_data[i]\n",
    "    comparison.loc['Recovered'] =recovered_data[i]\n",
    "    display(comparison)"
   ]
  },
  {
   "cell_type": "markdown",
   "metadata": {
    "pycharm": {
     "name": "#%% md\n"
    }
   },
   "source": [
    "You can probably see that some values are not exactly the same as they are in the original data. What might be the reason for that?"
   ]
  },
  {
   "cell_type": "markdown",
   "metadata": {
    "pycharm": {
     "name": "#%% md\n"
    }
   },
   "source": [
    "**Answer** While in pure math the results are identical, limitations of calculating using floating point means that there will be floating point errors. But by rounding the results we obtain the original data."
   ]
  },
  {
   "cell_type": "markdown",
   "metadata": {
    "pycharm": {
     "name": "#%% md\n"
    }
   },
   "source": [
    "## Proof That Data Obfuscation Can Work with LR"
   ]
  },
  {
   "cell_type": "markdown",
   "metadata": {
    "pycharm": {
     "name": "#%% md\n"
    }
   },
   "source": [
    "The regression task has been solved with linear regression in this project. Your next task is to prove _analytically_ that the given obfuscation method won't affect linear regression in terms of predicted values i.e. their values will remain the same. Can you believe that? Well, you don't have to, you should prove it!"
   ]
  },
  {
   "cell_type": "markdown",
   "metadata": {
    "pycharm": {
     "name": "#%% md\n"
    }
   },
   "source": [
    "So, the data is obfuscated and there is $X \\times P$ instead of just $X$ now. Consequently, there are other weights $w_P$ as\n",
    "$$\n",
    "w = (X^T X)^{-1} X^T y \\quad \\Rightarrow \\quad w_P = [(XP)^T XP]^{-1} (XP)^T y\n",
    "$$\n",
    "\n",
    "How would $w$ and $w_P$ be linked if you simplify the formula for $w_P$ above?\n",
    "\n",
    "What would be predicted values with $w_P$?\n",
    "\n",
    "What does that mean for the quality of linear regression if you measure it with RMSE?"
   ]
  },
  {
   "cell_type": "markdown",
   "metadata": {
    "pycharm": {
     "name": "#%% md\n"
    }
   },
   "source": [
    "**Answers**\n",
    "$$w = Pw_p$$\n",
    "$$\\hat{y_P} = \\hat{y}$$\n",
    "The quality of linear regression remains the same.\n"
   ]
  },
  {
   "cell_type": "markdown",
   "metadata": {
    "pycharm": {
     "name": "#%% md\n"
    }
   },
   "source": [
    "**Analytical proof**"
   ]
  },
  {
   "cell_type": "markdown",
   "metadata": {
    "pycharm": {
     "name": "#%% md\n"
    }
   },
   "source": [
    " $$ w_P = [(XP)^T XP]^{-1} (XP)^T y $$\n",
    "$$        = [P^TX^TXP]^{-1}(P^TX^T) y $$\n",
    "$$            =P^{-1}(X*X^T)^{-1}(P^T)^{-1}P^TX^Ty$$\n",
    "$$            =P^{-1}(X*X^T)^{-1}IX^Ty$$\n",
    "$$            =P^{-1}\\big[(X*X^T)^{-1}X^Ty\\big]$$\n",
    "$$            (X*X^T)^{-1}X^Ty=w \\quad \\Rightarrow \\quad $$\n",
    "$$            w_P=P^{-1}w$$\n"
   ]
  },
  {
   "cell_type": "markdown",
   "metadata": {
    "pycharm": {
     "name": "#%% md\n"
    }
   },
   "source": [
    "$$\\hat{y} = Xw $$\n",
    "$$\\hat{y_P} = XPw_P = XP\\big (P^{-1}w \\big ) = Xw = \\hat{y}$$\n"
   ]
  },
  {
   "cell_type": "markdown",
   "metadata": {
    "pycharm": {
     "name": "#%% md\n"
    }
   },
   "source": [
    "$$ RMSE_p = \\sqrt{\\Sigma_{i=1}^{n}{\\Big(\\frac{\\hat{y_{iP}} -y_i}{n}\\Big)^2}} $$\n",
    "$$ RMSE = \\sqrt{\\Sigma_{i=1}^{n}{\\Big(\\frac{\\hat{y_i} -y_i}{n}\\Big)^2}} $$\n",
    "\n",
    "Since $\\hat y_P = \\hat y$ then $RMSE_P = RMSE$"
   ]
  },
  {
   "cell_type": "markdown",
   "metadata": {
    "pycharm": {
     "name": "#%% md\n"
    }
   },
   "source": [
    "## Test Linear Regression With Data Obfuscation"
   ]
  },
  {
   "cell_type": "code",
   "execution_count": 82,
   "metadata": {
    "pycharm": {
     "name": "#%%\n"
    }
   },
   "outputs": [],
   "source": [
    "obf_features_train = features_train.dot(P)\n",
    "obf_features_test = features_test.dot(P)"
   ]
  },
  {
   "cell_type": "code",
   "execution_count": 85,
   "metadata": {
    "pycharm": {
     "name": "#%%\n"
    }
   },
   "outputs": [],
   "source": [
    "model.fit(obf_features_train,target_train)\n",
    "obf_predicted_values=model.predict(obf_features_test)\n"
   ]
  },
  {
   "cell_type": "markdown",
   "metadata": {
    "pycharm": {
     "name": "#%% md\n"
    }
   },
   "source": [
    "Checking Mean Squared Error of both our models"
   ]
  },
  {
   "cell_type": "code",
   "execution_count": 86,
   "metadata": {
    "pycharm": {
     "name": "#%%\n"
    }
   },
   "outputs": [
    {
     "name": "stdout",
     "output_type": "stream",
     "text": [
      "The Root Mean Squared Error of our model is 0.37154\n",
      "The R2 Score of the original model is 0.63871\n",
      "The Root Mean Squared Error of our model is 0.37154\n",
      "The R2 Score of the obfuscated model is 0.63871\n"
     ]
    }
   ],
   "source": [
    "print(f'The Root Mean Squared Error of our model is {math.sqrt(mean_squared_error(target_test,predicted_values)):.5f}')\n",
    "print(f'The R2 Score of the original model is {math.sqrt(sklearn.metrics.r2_score(target_test,predicted_values)):.5f}')\n",
    "\n",
    "print(f'The Root Mean Squared Error of our model is {math.sqrt(mean_squared_error(target_test,obf_predicted_values)):.5f}')\n",
    "print(f'The R2 Score of the obfuscated model is {math.sqrt(sklearn.metrics.r2_score(target_test,obf_predicted_values)):.5f}')"
   ]
  },
  {
   "cell_type": "markdown",
   "metadata": {
    "pycharm": {
     "name": "#%% md\n"
    }
   },
   "source": [
    "Incredible. With a completely different (obfuscated) matrix using **the same model** we got the exact same score 😁"
   ]
  },
  {
   "cell_type": "markdown",
   "metadata": {
    "pycharm": {
     "name": "#%% md\n"
    }
   },
   "source": [
    "# Conclusion<a class=\"anchor\" id='4'></a>\n",
    "We have opened and analyzed the dataset.\n",
    "We scaled the dataset using the MaxAbs Scaler. We wrote an implementation of the k Nearest Neighbor algorithm to find customers similar to a given customer. We have applied it with two different distance formulas, both on the given dataset and on the scaled one.\n",
    "We created a Machine Learning model to predict whether a new customer is likely to receive an insurance benefit with very good results.\n",
    "We made a linear regression model to predict the number of insurance benefits a new customer is likely to receive.\n",
    "We used a random matrix to obfuscate the personal data of the clients in order to protect it from unauthorized access, without breaking the model from the previous task. We proved the method works both analytically and in practice."
   ]
  }
 ],
 "metadata": {
  "ExecuteTimeLog": [
   {
    "duration": 1828,
    "start_time": "2022-07-27T12:07:33.662Z"
   },
   {
    "duration": 165,
    "start_time": "2022-07-27T12:07:35.492Z"
   },
   {
    "duration": 5,
    "start_time": "2022-07-27T12:07:36.128Z"
   },
   {
    "duration": 48,
    "start_time": "2022-07-27T12:07:36.639Z"
   },
   {
    "duration": 4,
    "start_time": "2022-07-27T12:07:36.884Z"
   },
   {
    "duration": 52,
    "start_time": "2022-07-27T12:07:37.249Z"
   },
   {
    "duration": 34,
    "start_time": "2022-07-27T12:07:37.598Z"
   },
   {
    "duration": 5,
    "start_time": "2022-07-27T12:07:37.872Z"
   },
   {
    "duration": 796,
    "start_time": "2022-07-27T12:07:38.078Z"
   },
   {
    "duration": 3080,
    "start_time": "2022-07-27T12:07:38.877Z"
   },
   {
    "duration": 2020,
    "start_time": "2022-07-27T12:07:41.959Z"
   },
   {
    "duration": 4591,
    "start_time": "2022-07-27T12:08:55.287Z"
   },
   {
    "duration": 32,
    "start_time": "2022-07-27T12:08:59.881Z"
   },
   {
    "duration": 32,
    "start_time": "2022-07-27T12:08:59.917Z"
   },
   {
    "duration": 184,
    "start_time": "2022-07-27T12:08:59.951Z"
   },
   {
    "duration": 61,
    "start_time": "2022-07-27T12:09:00.137Z"
   },
   {
    "duration": 60,
    "start_time": "2022-07-27T12:09:00.202Z"
   },
   {
    "duration": 7761,
    "start_time": "2022-07-27T12:09:05.017Z"
   },
   {
    "duration": 19,
    "start_time": "2022-07-27T12:09:27.367Z"
   },
   {
    "duration": 134,
    "start_time": "2022-07-27T12:09:51.222Z"
   },
   {
    "duration": 15,
    "start_time": "2022-07-27T12:10:00.044Z"
   },
   {
    "duration": 12,
    "start_time": "2022-07-27T12:10:02.519Z"
   },
   {
    "duration": 11,
    "start_time": "2022-07-27T12:11:29.022Z"
   },
   {
    "duration": 12,
    "start_time": "2022-07-27T12:11:41.425Z"
   },
   {
    "duration": 13,
    "start_time": "2022-07-27T12:11:50.039Z"
   },
   {
    "duration": 14,
    "start_time": "2022-07-27T12:11:55.370Z"
   },
   {
    "duration": 16,
    "start_time": "2022-07-27T12:12:07.920Z"
   },
   {
    "duration": 5,
    "start_time": "2022-07-27T12:13:12.236Z"
   },
   {
    "duration": 5,
    "start_time": "2022-07-27T12:13:13.730Z"
   },
   {
    "duration": 30,
    "start_time": "2022-07-27T12:13:19.580Z"
   },
   {
    "duration": 7,
    "start_time": "2022-07-27T12:13:29.691Z"
   },
   {
    "duration": 5,
    "start_time": "2022-07-27T12:13:36.304Z"
   },
   {
    "duration": 19,
    "start_time": "2022-07-27T12:13:40.178Z"
   },
   {
    "duration": 6,
    "start_time": "2022-07-27T12:13:53.628Z"
   },
   {
    "duration": 6,
    "start_time": "2022-07-27T12:13:55.793Z"
   },
   {
    "duration": 16,
    "start_time": "2022-07-27T12:13:56.342Z"
   },
   {
    "duration": 5,
    "start_time": "2022-07-27T12:14:07.807Z"
   },
   {
    "duration": 20,
    "start_time": "2022-07-27T12:14:08.633Z"
   },
   {
    "duration": 5,
    "start_time": "2022-07-27T12:14:38.044Z"
   },
   {
    "duration": 10,
    "start_time": "2022-07-27T12:14:41.397Z"
   },
   {
    "duration": 5,
    "start_time": "2022-07-27T12:15:17.380Z"
   },
   {
    "duration": 16,
    "start_time": "2022-07-27T12:15:20.803Z"
   },
   {
    "duration": 5,
    "start_time": "2022-07-27T12:15:26.274Z"
   },
   {
    "duration": 4,
    "start_time": "2022-07-27T12:15:33.130Z"
   },
   {
    "duration": 16,
    "start_time": "2022-07-27T12:15:36.394Z"
   },
   {
    "duration": 5,
    "start_time": "2022-07-27T12:15:38.770Z"
   },
   {
    "duration": 16,
    "start_time": "2022-07-27T12:15:40.746Z"
   },
   {
    "duration": 10,
    "start_time": "2022-07-27T12:16:20.977Z"
   },
   {
    "duration": 12,
    "start_time": "2022-07-27T12:22:49.099Z"
   },
   {
    "duration": 10,
    "start_time": "2022-07-27T12:22:57.385Z"
   },
   {
    "duration": 11,
    "start_time": "2022-07-27T12:22:58.501Z"
   },
   {
    "duration": 4,
    "start_time": "2022-07-27T12:22:58.842Z"
   },
   {
    "duration": 7,
    "start_time": "2022-07-27T12:22:59.014Z"
   },
   {
    "duration": 8657,
    "start_time": "2022-07-27T12:23:00.086Z"
   },
   {
    "duration": 5,
    "start_time": "2022-07-27T12:23:12.772Z"
   },
   {
    "duration": 8,
    "start_time": "2022-07-27T12:23:12.960Z"
   },
   {
    "duration": 8093,
    "start_time": "2022-07-27T12:23:13.346Z"
   },
   {
    "duration": 15,
    "start_time": "2022-07-27T12:23:52.971Z"
   },
   {
    "duration": 4,
    "start_time": "2022-07-27T12:23:53.677Z"
   },
   {
    "duration": 3,
    "start_time": "2022-07-27T12:23:53.932Z"
   },
   {
    "duration": 4,
    "start_time": "2022-07-27T12:23:54.385Z"
   },
   {
    "duration": 9230,
    "start_time": "2022-07-27T12:23:55.051Z"
   },
   {
    "duration": 21,
    "start_time": "2022-07-27T12:24:04.284Z"
   },
   {
    "duration": 18,
    "start_time": "2022-07-27T12:24:04.308Z"
   },
   {
    "duration": 7804,
    "start_time": "2022-07-27T12:24:04.329Z"
   },
   {
    "duration": 15,
    "start_time": "2022-07-27T12:27:55.333Z"
   },
   {
    "duration": 5,
    "start_time": "2022-07-27T12:29:26.318Z"
   },
   {
    "duration": 6,
    "start_time": "2022-07-27T12:29:27.182Z"
   },
   {
    "duration": 9,
    "start_time": "2022-07-27T12:29:50.531Z"
   },
   {
    "duration": 249,
    "start_time": "2022-07-27T12:29:51.320Z"
   },
   {
    "duration": 11,
    "start_time": "2022-07-27T12:29:53.066Z"
   },
   {
    "duration": 7,
    "start_time": "2022-07-27T12:29:58.808Z"
   },
   {
    "duration": 5,
    "start_time": "2022-07-27T12:30:04.321Z"
   },
   {
    "duration": 48,
    "start_time": "2022-07-27T17:11:00.545Z"
   },
   {
    "duration": 3,
    "start_time": "2022-07-29T13:57:46.917Z"
   },
   {
    "duration": 1561,
    "start_time": "2022-07-29T13:57:46.922Z"
   },
   {
    "duration": 83,
    "start_time": "2022-07-29T13:57:48.485Z"
   },
   {
    "duration": 4,
    "start_time": "2022-07-29T13:57:48.570Z"
   },
   {
    "duration": 29,
    "start_time": "2022-07-29T13:57:48.575Z"
   },
   {
    "duration": 3,
    "start_time": "2022-07-29T13:57:48.606Z"
   },
   {
    "duration": 40,
    "start_time": "2022-07-29T13:57:48.611Z"
   },
   {
    "duration": 23,
    "start_time": "2022-07-29T13:57:48.653Z"
   },
   {
    "duration": 4,
    "start_time": "2022-07-29T13:57:48.679Z"
   },
   {
    "duration": 579,
    "start_time": "2022-07-29T13:57:48.686Z"
   },
   {
    "duration": 2207,
    "start_time": "2022-07-29T13:57:49.267Z"
   },
   {
    "duration": 1430,
    "start_time": "2022-07-29T13:57:51.475Z"
   },
   {
    "duration": 3063,
    "start_time": "2022-07-29T13:57:52.906Z"
   },
   {
    "duration": 10,
    "start_time": "2022-07-29T13:57:55.970Z"
   },
   {
    "duration": 9,
    "start_time": "2022-07-29T13:57:55.981Z"
   },
   {
    "duration": 10,
    "start_time": "2022-07-29T13:57:55.992Z"
   },
   {
    "duration": 4,
    "start_time": "2022-07-29T13:57:56.003Z"
   },
   {
    "duration": 6,
    "start_time": "2022-07-29T13:57:56.008Z"
   },
   {
    "duration": 6927,
    "start_time": "2022-07-29T13:57:56.016Z"
   },
   {
    "duration": 4,
    "start_time": "2022-07-29T13:58:02.944Z"
   },
   {
    "duration": 10,
    "start_time": "2022-07-29T13:58:02.949Z"
   },
   {
    "duration": 6483,
    "start_time": "2022-07-29T13:58:02.961Z"
   },
   {
    "duration": 126,
    "start_time": "2022-07-29T13:58:09.445Z"
   },
   {
    "duration": 0,
    "start_time": "2022-07-29T13:58:09.574Z"
   },
   {
    "duration": 0,
    "start_time": "2022-07-29T13:58:09.576Z"
   },
   {
    "duration": 0,
    "start_time": "2022-07-29T13:58:09.577Z"
   },
   {
    "duration": 0,
    "start_time": "2022-07-29T13:58:09.578Z"
   },
   {
    "duration": 0,
    "start_time": "2022-07-29T13:58:09.579Z"
   },
   {
    "duration": 0,
    "start_time": "2022-07-29T13:58:09.581Z"
   },
   {
    "duration": 0,
    "start_time": "2022-07-29T13:58:09.582Z"
   },
   {
    "duration": 0,
    "start_time": "2022-07-29T13:58:09.583Z"
   },
   {
    "duration": 0,
    "start_time": "2022-07-29T13:58:09.585Z"
   },
   {
    "duration": 0,
    "start_time": "2022-07-29T13:58:09.586Z"
   },
   {
    "duration": 0,
    "start_time": "2022-07-29T13:58:09.588Z"
   },
   {
    "duration": 0,
    "start_time": "2022-07-29T13:58:09.589Z"
   },
   {
    "duration": 0,
    "start_time": "2022-07-29T13:58:09.590Z"
   },
   {
    "duration": 0,
    "start_time": "2022-07-29T13:58:09.592Z"
   },
   {
    "duration": 0,
    "start_time": "2022-07-29T13:58:09.593Z"
   },
   {
    "duration": 0,
    "start_time": "2022-07-29T13:58:09.594Z"
   },
   {
    "duration": 0,
    "start_time": "2022-07-29T13:58:09.595Z"
   },
   {
    "duration": 0,
    "start_time": "2022-07-29T13:58:09.597Z"
   },
   {
    "duration": 0,
    "start_time": "2022-07-29T13:58:09.634Z"
   },
   {
    "duration": 0,
    "start_time": "2022-07-29T13:58:09.635Z"
   },
   {
    "duration": 0,
    "start_time": "2022-07-29T13:58:09.637Z"
   },
   {
    "duration": 0,
    "start_time": "2022-07-29T13:58:09.638Z"
   },
   {
    "duration": 0,
    "start_time": "2022-07-29T13:58:09.639Z"
   },
   {
    "duration": 0,
    "start_time": "2022-07-29T13:58:09.641Z"
   },
   {
    "duration": 0,
    "start_time": "2022-07-29T13:58:09.642Z"
   },
   {
    "duration": 0,
    "start_time": "2022-07-29T13:58:09.643Z"
   },
   {
    "duration": 16,
    "start_time": "2022-07-29T14:03:01.613Z"
   },
   {
    "duration": 12,
    "start_time": "2022-07-29T14:03:19.424Z"
   },
   {
    "duration": 5,
    "start_time": "2022-07-29T14:03:25.885Z"
   },
   {
    "duration": 7,
    "start_time": "2022-07-29T14:03:25.892Z"
   },
   {
    "duration": 349,
    "start_time": "2022-07-29T14:03:25.901Z"
   },
   {
    "duration": 11,
    "start_time": "2022-07-29T14:03:26.251Z"
   },
   {
    "duration": 0,
    "start_time": "2022-07-29T14:03:26.264Z"
   },
   {
    "duration": 0,
    "start_time": "2022-07-29T14:03:26.265Z"
   },
   {
    "duration": 0,
    "start_time": "2022-07-29T14:03:26.266Z"
   },
   {
    "duration": 0,
    "start_time": "2022-07-29T14:03:26.267Z"
   },
   {
    "duration": 0,
    "start_time": "2022-07-29T14:03:26.268Z"
   },
   {
    "duration": 0,
    "start_time": "2022-07-29T14:03:26.269Z"
   },
   {
    "duration": 0,
    "start_time": "2022-07-29T14:03:26.270Z"
   },
   {
    "duration": 0,
    "start_time": "2022-07-29T14:03:26.271Z"
   },
   {
    "duration": 0,
    "start_time": "2022-07-29T14:03:26.271Z"
   },
   {
    "duration": 0,
    "start_time": "2022-07-29T14:03:26.272Z"
   },
   {
    "duration": 0,
    "start_time": "2022-07-29T14:03:26.273Z"
   },
   {
    "duration": 0,
    "start_time": "2022-07-29T14:03:26.274Z"
   },
   {
    "duration": 0,
    "start_time": "2022-07-29T14:03:26.274Z"
   },
   {
    "duration": 0,
    "start_time": "2022-07-29T14:03:26.275Z"
   },
   {
    "duration": 0,
    "start_time": "2022-07-29T14:03:26.276Z"
   },
   {
    "duration": 0,
    "start_time": "2022-07-29T14:03:26.277Z"
   },
   {
    "duration": 0,
    "start_time": "2022-07-29T14:03:26.277Z"
   },
   {
    "duration": 0,
    "start_time": "2022-07-29T14:03:26.278Z"
   },
   {
    "duration": 0,
    "start_time": "2022-07-29T14:03:26.279Z"
   },
   {
    "duration": 0,
    "start_time": "2022-07-29T14:03:26.280Z"
   },
   {
    "duration": 0,
    "start_time": "2022-07-29T14:03:26.280Z"
   },
   {
    "duration": 0,
    "start_time": "2022-07-29T14:03:26.281Z"
   },
   {
    "duration": 6,
    "start_time": "2022-07-29T14:03:51.353Z"
   },
   {
    "duration": 436,
    "start_time": "2022-07-29T14:03:51.915Z"
   },
   {
    "duration": 15,
    "start_time": "2022-07-29T14:03:55.926Z"
   },
   {
    "duration": 2,
    "start_time": "2022-07-29T14:17:03.514Z"
   },
   {
    "duration": 8,
    "start_time": "2022-07-29T14:17:03.520Z"
   },
   {
    "duration": 87,
    "start_time": "2022-07-29T14:17:03.530Z"
   },
   {
    "duration": 3,
    "start_time": "2022-07-29T14:17:03.619Z"
   },
   {
    "duration": 27,
    "start_time": "2022-07-29T14:17:03.623Z"
   },
   {
    "duration": 3,
    "start_time": "2022-07-29T14:17:03.652Z"
   },
   {
    "duration": 45,
    "start_time": "2022-07-29T14:17:03.657Z"
   },
   {
    "duration": 41,
    "start_time": "2022-07-29T14:17:03.704Z"
   },
   {
    "duration": 4,
    "start_time": "2022-07-29T14:17:03.746Z"
   },
   {
    "duration": 564,
    "start_time": "2022-07-29T14:17:03.752Z"
   },
   {
    "duration": 2138,
    "start_time": "2022-07-29T14:17:04.319Z"
   },
   {
    "duration": 1402,
    "start_time": "2022-07-29T14:17:06.459Z"
   },
   {
    "duration": 3140,
    "start_time": "2022-07-29T14:17:07.862Z"
   },
   {
    "duration": 9,
    "start_time": "2022-07-29T14:17:11.004Z"
   },
   {
    "duration": 17,
    "start_time": "2022-07-29T14:17:11.016Z"
   },
   {
    "duration": 16,
    "start_time": "2022-07-29T14:17:11.035Z"
   },
   {
    "duration": 17,
    "start_time": "2022-07-29T14:17:11.053Z"
   },
   {
    "duration": 16,
    "start_time": "2022-07-29T14:17:11.072Z"
   },
   {
    "duration": 7309,
    "start_time": "2022-07-29T14:17:11.090Z"
   },
   {
    "duration": 4,
    "start_time": "2022-07-29T14:17:18.401Z"
   },
   {
    "duration": 10,
    "start_time": "2022-07-29T14:17:18.406Z"
   },
   {
    "duration": 6544,
    "start_time": "2022-07-29T14:17:18.417Z"
   },
   {
    "duration": 12,
    "start_time": "2022-07-29T14:17:24.962Z"
   },
   {
    "duration": 9,
    "start_time": "2022-07-29T14:17:24.975Z"
   },
   {
    "duration": 10,
    "start_time": "2022-07-29T14:17:24.985Z"
   },
   {
    "duration": 359,
    "start_time": "2022-07-29T14:17:24.997Z"
   },
   {
    "duration": 10,
    "start_time": "2022-07-29T14:17:25.358Z"
   },
   {
    "duration": 430,
    "start_time": "2022-07-29T14:17:25.372Z"
   },
   {
    "duration": 11,
    "start_time": "2022-07-29T14:17:25.804Z"
   },
   {
    "duration": 21,
    "start_time": "2022-07-29T14:17:25.816Z"
   },
   {
    "duration": 281,
    "start_time": "2022-07-29T14:17:25.839Z"
   },
   {
    "duration": 4,
    "start_time": "2022-07-29T14:17:26.122Z"
   },
   {
    "duration": 7,
    "start_time": "2022-07-29T14:17:26.133Z"
   },
   {
    "duration": 9,
    "start_time": "2022-07-29T14:17:26.142Z"
   },
   {
    "duration": 83,
    "start_time": "2022-07-29T14:17:26.153Z"
   },
   {
    "duration": 0,
    "start_time": "2022-07-29T14:17:26.239Z"
   },
   {
    "duration": 0,
    "start_time": "2022-07-29T14:17:26.241Z"
   },
   {
    "duration": 0,
    "start_time": "2022-07-29T14:17:26.242Z"
   },
   {
    "duration": 0,
    "start_time": "2022-07-29T14:17:26.243Z"
   },
   {
    "duration": 0,
    "start_time": "2022-07-29T14:17:26.244Z"
   },
   {
    "duration": 0,
    "start_time": "2022-07-29T14:17:26.245Z"
   },
   {
    "duration": 0,
    "start_time": "2022-07-29T14:17:26.246Z"
   },
   {
    "duration": 0,
    "start_time": "2022-07-29T14:17:26.247Z"
   },
   {
    "duration": 0,
    "start_time": "2022-07-29T14:17:26.248Z"
   },
   {
    "duration": 0,
    "start_time": "2022-07-29T14:17:26.249Z"
   },
   {
    "duration": 0,
    "start_time": "2022-07-29T14:17:26.334Z"
   },
   {
    "duration": 0,
    "start_time": "2022-07-29T14:17:26.335Z"
   },
   {
    "duration": 0,
    "start_time": "2022-07-29T14:17:26.336Z"
   },
   {
    "duration": 0,
    "start_time": "2022-07-29T14:17:26.337Z"
   },
   {
    "duration": 0,
    "start_time": "2022-07-29T14:17:26.338Z"
   },
   {
    "duration": 6,
    "start_time": "2022-07-29T14:17:42.755Z"
   },
   {
    "duration": 3,
    "start_time": "2022-07-29T14:17:46.484Z"
   },
   {
    "duration": 7,
    "start_time": "2022-07-29T14:17:46.489Z"
   },
   {
    "duration": 12,
    "start_time": "2022-07-29T14:17:46.497Z"
   },
   {
    "duration": 127,
    "start_time": "2022-07-29T14:17:46.512Z"
   },
   {
    "duration": 7,
    "start_time": "2022-07-29T14:17:46.641Z"
   },
   {
    "duration": 9,
    "start_time": "2022-07-29T14:17:46.649Z"
   },
   {
    "duration": 5,
    "start_time": "2022-07-29T14:17:46.660Z"
   },
   {
    "duration": 6,
    "start_time": "2022-07-29T14:17:46.667Z"
   },
   {
    "duration": 6,
    "start_time": "2022-07-29T14:17:46.674Z"
   },
   {
    "duration": 10,
    "start_time": "2022-07-29T14:17:46.681Z"
   },
   {
    "duration": 42,
    "start_time": "2022-07-29T14:17:46.693Z"
   },
   {
    "duration": 5,
    "start_time": "2022-07-29T14:17:46.736Z"
   },
   {
    "duration": 195,
    "start_time": "2022-07-29T14:17:46.742Z"
   },
   {
    "duration": 3,
    "start_time": "2022-07-29T14:17:46.941Z"
   },
   {
    "duration": 11,
    "start_time": "2022-07-29T14:17:46.946Z"
   },
   {
    "duration": 15,
    "start_time": "2022-07-29T14:17:46.959Z"
   },
   {
    "duration": 7,
    "start_time": "2022-07-29T14:18:49.633Z"
   },
   {
    "duration": 6,
    "start_time": "2022-07-29T14:18:50.663Z"
   }
  ],
  "kernelspec": {
   "display_name": "Python 3 (ipykernel)",
   "language": "python",
   "name": "python3"
  },
  "language_info": {
   "codemirror_mode": {
    "name": "ipython",
    "version": 3
   },
   "file_extension": ".py",
   "mimetype": "text/x-python",
   "name": "python",
   "nbconvert_exporter": "python",
   "pygments_lexer": "ipython3",
   "version": "3.9.12"
  },
  "toc": {
   "base_numbering": 1,
   "nav_menu": {},
   "number_sections": true,
   "sideBar": true,
   "skip_h1_title": true,
   "title_cell": "Table of Contents",
   "title_sidebar": "Contents",
   "toc_cell": false,
   "toc_position": {
    "height": "calc(100% - 180px)",
    "left": "10px",
    "top": "150px",
    "width": "490.567px"
   },
   "toc_section_display": true,
   "toc_window_display": false
  }
 },
 "nbformat": 4,
 "nbformat_minor": 4
}
